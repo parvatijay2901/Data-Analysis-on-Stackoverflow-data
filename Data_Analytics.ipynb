{
  "nbformat": 4,
  "nbformat_minor": 0,
  "metadata": {
    "colab": {
      "name": "Data_Analytics.ipynb",
      "provenance": [],
      "collapsed_sections": []
    },
    "kernelspec": {
      "name": "python3",
      "display_name": "Python 3"
    },
    "language_info": {
      "name": "python"
    },
    "widgets": {
      "application/vnd.jupyter.widget-state+json": {
        "ed5377ff41b34e1697069acfcf8b05ca": {
          "model_module": "@jupyter-widgets/controls",
          "model_name": "HBoxModel",
          "model_module_version": "1.5.0",
          "state": {
            "_view_name": "HBoxView",
            "_dom_classes": [],
            "_model_name": "HBoxModel",
            "_view_module": "@jupyter-widgets/controls",
            "_model_module_version": "1.5.0",
            "_view_count": null,
            "_view_module_version": "1.5.0",
            "box_style": "",
            "layout": "IPY_MODEL_e34e12e64034465b905d3a9fdeb61ef3",
            "_model_module": "@jupyter-widgets/controls",
            "children": [
              "IPY_MODEL_757791b07b8843bb82e3370c15754319",
              "IPY_MODEL_47bf9fd43b84411cba0f94a1912fcee8",
              "IPY_MODEL_6fdca587bc6e424d89ccf63b9c998217"
            ]
          }
        },
        "e34e12e64034465b905d3a9fdeb61ef3": {
          "model_module": "@jupyter-widgets/base",
          "model_name": "LayoutModel",
          "model_module_version": "1.2.0",
          "state": {
            "_view_name": "LayoutView",
            "grid_template_rows": null,
            "right": null,
            "justify_content": null,
            "_view_module": "@jupyter-widgets/base",
            "overflow": null,
            "_model_module_version": "1.2.0",
            "_view_count": null,
            "flex_flow": null,
            "width": null,
            "min_width": null,
            "border": null,
            "align_items": null,
            "bottom": null,
            "_model_module": "@jupyter-widgets/base",
            "top": null,
            "grid_column": null,
            "overflow_y": null,
            "overflow_x": null,
            "grid_auto_flow": null,
            "grid_area": null,
            "grid_template_columns": null,
            "flex": null,
            "_model_name": "LayoutModel",
            "justify_items": null,
            "grid_row": null,
            "max_height": null,
            "align_content": null,
            "visibility": null,
            "align_self": null,
            "height": null,
            "min_height": null,
            "padding": null,
            "grid_auto_rows": null,
            "grid_gap": null,
            "max_width": null,
            "order": null,
            "_view_module_version": "1.2.0",
            "grid_template_areas": null,
            "object_position": null,
            "object_fit": null,
            "grid_auto_columns": null,
            "margin": null,
            "display": null,
            "left": null
          }
        },
        "757791b07b8843bb82e3370c15754319": {
          "model_module": "@jupyter-widgets/controls",
          "model_name": "HTMLModel",
          "model_module_version": "1.5.0",
          "state": {
            "_view_name": "HTMLView",
            "style": "IPY_MODEL_b707c97095244df99cab7caf92781b03",
            "_dom_classes": [],
            "description": "",
            "_model_name": "HTMLModel",
            "placeholder": "​",
            "_view_module": "@jupyter-widgets/controls",
            "_model_module_version": "1.5.0",
            "value": "100%",
            "_view_count": null,
            "_view_module_version": "1.5.0",
            "description_tooltip": null,
            "_model_module": "@jupyter-widgets/controls",
            "layout": "IPY_MODEL_c32cfb199b58407e9767f0935923779b"
          }
        },
        "47bf9fd43b84411cba0f94a1912fcee8": {
          "model_module": "@jupyter-widgets/controls",
          "model_name": "FloatProgressModel",
          "model_module_version": "1.5.0",
          "state": {
            "_view_name": "ProgressView",
            "style": "IPY_MODEL_6f91955915a9456badfed54e79de05a8",
            "_dom_classes": [],
            "description": "",
            "_model_name": "FloatProgressModel",
            "bar_style": "success",
            "max": 821,
            "_view_module": "@jupyter-widgets/controls",
            "_model_module_version": "1.5.0",
            "value": 821,
            "_view_count": null,
            "_view_module_version": "1.5.0",
            "orientation": "horizontal",
            "min": 0,
            "description_tooltip": null,
            "_model_module": "@jupyter-widgets/controls",
            "layout": "IPY_MODEL_e11df5436b284cb1b67ffa9fbfffc8da"
          }
        },
        "6fdca587bc6e424d89ccf63b9c998217": {
          "model_module": "@jupyter-widgets/controls",
          "model_name": "HTMLModel",
          "model_module_version": "1.5.0",
          "state": {
            "_view_name": "HTMLView",
            "style": "IPY_MODEL_e368ea472d224c6c89fdfdef5869e33b",
            "_dom_classes": [],
            "description": "",
            "_model_name": "HTMLModel",
            "placeholder": "​",
            "_view_module": "@jupyter-widgets/controls",
            "_model_module_version": "1.5.0",
            "value": " 821/821 [00:00&lt;00:00, 14748.94it/s]",
            "_view_count": null,
            "_view_module_version": "1.5.0",
            "description_tooltip": null,
            "_model_module": "@jupyter-widgets/controls",
            "layout": "IPY_MODEL_2e87ca7cde2d4a34afe5f09fb7cdd3a1"
          }
        },
        "b707c97095244df99cab7caf92781b03": {
          "model_module": "@jupyter-widgets/controls",
          "model_name": "DescriptionStyleModel",
          "model_module_version": "1.5.0",
          "state": {
            "_view_name": "StyleView",
            "_model_name": "DescriptionStyleModel",
            "description_width": "",
            "_view_module": "@jupyter-widgets/base",
            "_model_module_version": "1.5.0",
            "_view_count": null,
            "_view_module_version": "1.2.0",
            "_model_module": "@jupyter-widgets/controls"
          }
        },
        "c32cfb199b58407e9767f0935923779b": {
          "model_module": "@jupyter-widgets/base",
          "model_name": "LayoutModel",
          "model_module_version": "1.2.0",
          "state": {
            "_view_name": "LayoutView",
            "grid_template_rows": null,
            "right": null,
            "justify_content": null,
            "_view_module": "@jupyter-widgets/base",
            "overflow": null,
            "_model_module_version": "1.2.0",
            "_view_count": null,
            "flex_flow": null,
            "width": null,
            "min_width": null,
            "border": null,
            "align_items": null,
            "bottom": null,
            "_model_module": "@jupyter-widgets/base",
            "top": null,
            "grid_column": null,
            "overflow_y": null,
            "overflow_x": null,
            "grid_auto_flow": null,
            "grid_area": null,
            "grid_template_columns": null,
            "flex": null,
            "_model_name": "LayoutModel",
            "justify_items": null,
            "grid_row": null,
            "max_height": null,
            "align_content": null,
            "visibility": null,
            "align_self": null,
            "height": null,
            "min_height": null,
            "padding": null,
            "grid_auto_rows": null,
            "grid_gap": null,
            "max_width": null,
            "order": null,
            "_view_module_version": "1.2.0",
            "grid_template_areas": null,
            "object_position": null,
            "object_fit": null,
            "grid_auto_columns": null,
            "margin": null,
            "display": null,
            "left": null
          }
        },
        "6f91955915a9456badfed54e79de05a8": {
          "model_module": "@jupyter-widgets/controls",
          "model_name": "ProgressStyleModel",
          "model_module_version": "1.5.0",
          "state": {
            "_view_name": "StyleView",
            "_model_name": "ProgressStyleModel",
            "description_width": "",
            "_view_module": "@jupyter-widgets/base",
            "_model_module_version": "1.5.0",
            "_view_count": null,
            "_view_module_version": "1.2.0",
            "bar_color": null,
            "_model_module": "@jupyter-widgets/controls"
          }
        },
        "e11df5436b284cb1b67ffa9fbfffc8da": {
          "model_module": "@jupyter-widgets/base",
          "model_name": "LayoutModel",
          "model_module_version": "1.2.0",
          "state": {
            "_view_name": "LayoutView",
            "grid_template_rows": null,
            "right": null,
            "justify_content": null,
            "_view_module": "@jupyter-widgets/base",
            "overflow": null,
            "_model_module_version": "1.2.0",
            "_view_count": null,
            "flex_flow": null,
            "width": null,
            "min_width": null,
            "border": null,
            "align_items": null,
            "bottom": null,
            "_model_module": "@jupyter-widgets/base",
            "top": null,
            "grid_column": null,
            "overflow_y": null,
            "overflow_x": null,
            "grid_auto_flow": null,
            "grid_area": null,
            "grid_template_columns": null,
            "flex": null,
            "_model_name": "LayoutModel",
            "justify_items": null,
            "grid_row": null,
            "max_height": null,
            "align_content": null,
            "visibility": null,
            "align_self": null,
            "height": null,
            "min_height": null,
            "padding": null,
            "grid_auto_rows": null,
            "grid_gap": null,
            "max_width": null,
            "order": null,
            "_view_module_version": "1.2.0",
            "grid_template_areas": null,
            "object_position": null,
            "object_fit": null,
            "grid_auto_columns": null,
            "margin": null,
            "display": null,
            "left": null
          }
        },
        "e368ea472d224c6c89fdfdef5869e33b": {
          "model_module": "@jupyter-widgets/controls",
          "model_name": "DescriptionStyleModel",
          "model_module_version": "1.5.0",
          "state": {
            "_view_name": "StyleView",
            "_model_name": "DescriptionStyleModel",
            "description_width": "",
            "_view_module": "@jupyter-widgets/base",
            "_model_module_version": "1.5.0",
            "_view_count": null,
            "_view_module_version": "1.2.0",
            "_model_module": "@jupyter-widgets/controls"
          }
        },
        "2e87ca7cde2d4a34afe5f09fb7cdd3a1": {
          "model_module": "@jupyter-widgets/base",
          "model_name": "LayoutModel",
          "model_module_version": "1.2.0",
          "state": {
            "_view_name": "LayoutView",
            "grid_template_rows": null,
            "right": null,
            "justify_content": null,
            "_view_module": "@jupyter-widgets/base",
            "overflow": null,
            "_model_module_version": "1.2.0",
            "_view_count": null,
            "flex_flow": null,
            "width": null,
            "min_width": null,
            "border": null,
            "align_items": null,
            "bottom": null,
            "_model_module": "@jupyter-widgets/base",
            "top": null,
            "grid_column": null,
            "overflow_y": null,
            "overflow_x": null,
            "grid_auto_flow": null,
            "grid_area": null,
            "grid_template_columns": null,
            "flex": null,
            "_model_name": "LayoutModel",
            "justify_items": null,
            "grid_row": null,
            "max_height": null,
            "align_content": null,
            "visibility": null,
            "align_self": null,
            "height": null,
            "min_height": null,
            "padding": null,
            "grid_auto_rows": null,
            "grid_gap": null,
            "max_width": null,
            "order": null,
            "_view_module_version": "1.2.0",
            "grid_template_areas": null,
            "object_position": null,
            "object_fit": null,
            "grid_auto_columns": null,
            "margin": null,
            "display": null,
            "left": null
          }
        },
        "4c69767dab2c4c189c97e3601cd15b49": {
          "model_module": "@jupyter-widgets/controls",
          "model_name": "HBoxModel",
          "model_module_version": "1.5.0",
          "state": {
            "_view_name": "HBoxView",
            "_dom_classes": [],
            "_model_name": "HBoxModel",
            "_view_module": "@jupyter-widgets/controls",
            "_model_module_version": "1.5.0",
            "_view_count": null,
            "_view_module_version": "1.5.0",
            "box_style": "",
            "layout": "IPY_MODEL_579fcda22ad144b4808a3c3777e42849",
            "_model_module": "@jupyter-widgets/controls",
            "children": [
              "IPY_MODEL_31e5746b7a6547fc824a2124b934bfd1",
              "IPY_MODEL_9998972d1d8b4019a80f2512d861ce8f",
              "IPY_MODEL_5c8cda7c674841419d1d1162ec00c5f8"
            ]
          }
        },
        "579fcda22ad144b4808a3c3777e42849": {
          "model_module": "@jupyter-widgets/base",
          "model_name": "LayoutModel",
          "model_module_version": "1.2.0",
          "state": {
            "_view_name": "LayoutView",
            "grid_template_rows": null,
            "right": null,
            "justify_content": null,
            "_view_module": "@jupyter-widgets/base",
            "overflow": null,
            "_model_module_version": "1.2.0",
            "_view_count": null,
            "flex_flow": null,
            "width": null,
            "min_width": null,
            "border": null,
            "align_items": null,
            "bottom": null,
            "_model_module": "@jupyter-widgets/base",
            "top": null,
            "grid_column": null,
            "overflow_y": null,
            "overflow_x": null,
            "grid_auto_flow": null,
            "grid_area": null,
            "grid_template_columns": null,
            "flex": null,
            "_model_name": "LayoutModel",
            "justify_items": null,
            "grid_row": null,
            "max_height": null,
            "align_content": null,
            "visibility": null,
            "align_self": null,
            "height": null,
            "min_height": null,
            "padding": null,
            "grid_auto_rows": null,
            "grid_gap": null,
            "max_width": null,
            "order": null,
            "_view_module_version": "1.2.0",
            "grid_template_areas": null,
            "object_position": null,
            "object_fit": null,
            "grid_auto_columns": null,
            "margin": null,
            "display": null,
            "left": null
          }
        },
        "31e5746b7a6547fc824a2124b934bfd1": {
          "model_module": "@jupyter-widgets/controls",
          "model_name": "HTMLModel",
          "model_module_version": "1.5.0",
          "state": {
            "_view_name": "HTMLView",
            "style": "IPY_MODEL_b6e7fdd94c7d400a8826eda0172be94c",
            "_dom_classes": [],
            "description": "",
            "_model_name": "HTMLModel",
            "placeholder": "​",
            "_view_module": "@jupyter-widgets/controls",
            "_model_module_version": "1.5.0",
            "value": "100%",
            "_view_count": null,
            "_view_module_version": "1.5.0",
            "description_tooltip": null,
            "_model_module": "@jupyter-widgets/controls",
            "layout": "IPY_MODEL_57242362be78486aa3f87f8fd10df263"
          }
        },
        "9998972d1d8b4019a80f2512d861ce8f": {
          "model_module": "@jupyter-widgets/controls",
          "model_name": "FloatProgressModel",
          "model_module_version": "1.5.0",
          "state": {
            "_view_name": "ProgressView",
            "style": "IPY_MODEL_9c98b9225b1845dfbc6d018ea49ac5fe",
            "_dom_classes": [],
            "description": "",
            "_model_name": "FloatProgressModel",
            "bar_style": "success",
            "max": 821,
            "_view_module": "@jupyter-widgets/controls",
            "_model_module_version": "1.5.0",
            "value": 821,
            "_view_count": null,
            "_view_module_version": "1.5.0",
            "orientation": "horizontal",
            "min": 0,
            "description_tooltip": null,
            "_model_module": "@jupyter-widgets/controls",
            "layout": "IPY_MODEL_fc4a45756e1b41d391f40dbe4dd2fe39"
          }
        },
        "5c8cda7c674841419d1d1162ec00c5f8": {
          "model_module": "@jupyter-widgets/controls",
          "model_name": "HTMLModel",
          "model_module_version": "1.5.0",
          "state": {
            "_view_name": "HTMLView",
            "style": "IPY_MODEL_2845d24370fd432da5cefc4c42c48df5",
            "_dom_classes": [],
            "description": "",
            "_model_name": "HTMLModel",
            "placeholder": "​",
            "_view_module": "@jupyter-widgets/controls",
            "_model_module_version": "1.5.0",
            "value": " 821/821 [00:00&lt;00:00, 16079.89it/s]",
            "_view_count": null,
            "_view_module_version": "1.5.0",
            "description_tooltip": null,
            "_model_module": "@jupyter-widgets/controls",
            "layout": "IPY_MODEL_492a54f3b8594cc3af2ee6a11ece17ea"
          }
        },
        "b6e7fdd94c7d400a8826eda0172be94c": {
          "model_module": "@jupyter-widgets/controls",
          "model_name": "DescriptionStyleModel",
          "model_module_version": "1.5.0",
          "state": {
            "_view_name": "StyleView",
            "_model_name": "DescriptionStyleModel",
            "description_width": "",
            "_view_module": "@jupyter-widgets/base",
            "_model_module_version": "1.5.0",
            "_view_count": null,
            "_view_module_version": "1.2.0",
            "_model_module": "@jupyter-widgets/controls"
          }
        },
        "57242362be78486aa3f87f8fd10df263": {
          "model_module": "@jupyter-widgets/base",
          "model_name": "LayoutModel",
          "model_module_version": "1.2.0",
          "state": {
            "_view_name": "LayoutView",
            "grid_template_rows": null,
            "right": null,
            "justify_content": null,
            "_view_module": "@jupyter-widgets/base",
            "overflow": null,
            "_model_module_version": "1.2.0",
            "_view_count": null,
            "flex_flow": null,
            "width": null,
            "min_width": null,
            "border": null,
            "align_items": null,
            "bottom": null,
            "_model_module": "@jupyter-widgets/base",
            "top": null,
            "grid_column": null,
            "overflow_y": null,
            "overflow_x": null,
            "grid_auto_flow": null,
            "grid_area": null,
            "grid_template_columns": null,
            "flex": null,
            "_model_name": "LayoutModel",
            "justify_items": null,
            "grid_row": null,
            "max_height": null,
            "align_content": null,
            "visibility": null,
            "align_self": null,
            "height": null,
            "min_height": null,
            "padding": null,
            "grid_auto_rows": null,
            "grid_gap": null,
            "max_width": null,
            "order": null,
            "_view_module_version": "1.2.0",
            "grid_template_areas": null,
            "object_position": null,
            "object_fit": null,
            "grid_auto_columns": null,
            "margin": null,
            "display": null,
            "left": null
          }
        },
        "9c98b9225b1845dfbc6d018ea49ac5fe": {
          "model_module": "@jupyter-widgets/controls",
          "model_name": "ProgressStyleModel",
          "model_module_version": "1.5.0",
          "state": {
            "_view_name": "StyleView",
            "_model_name": "ProgressStyleModel",
            "description_width": "",
            "_view_module": "@jupyter-widgets/base",
            "_model_module_version": "1.5.0",
            "_view_count": null,
            "_view_module_version": "1.2.0",
            "bar_color": null,
            "_model_module": "@jupyter-widgets/controls"
          }
        },
        "fc4a45756e1b41d391f40dbe4dd2fe39": {
          "model_module": "@jupyter-widgets/base",
          "model_name": "LayoutModel",
          "model_module_version": "1.2.0",
          "state": {
            "_view_name": "LayoutView",
            "grid_template_rows": null,
            "right": null,
            "justify_content": null,
            "_view_module": "@jupyter-widgets/base",
            "overflow": null,
            "_model_module_version": "1.2.0",
            "_view_count": null,
            "flex_flow": null,
            "width": null,
            "min_width": null,
            "border": null,
            "align_items": null,
            "bottom": null,
            "_model_module": "@jupyter-widgets/base",
            "top": null,
            "grid_column": null,
            "overflow_y": null,
            "overflow_x": null,
            "grid_auto_flow": null,
            "grid_area": null,
            "grid_template_columns": null,
            "flex": null,
            "_model_name": "LayoutModel",
            "justify_items": null,
            "grid_row": null,
            "max_height": null,
            "align_content": null,
            "visibility": null,
            "align_self": null,
            "height": null,
            "min_height": null,
            "padding": null,
            "grid_auto_rows": null,
            "grid_gap": null,
            "max_width": null,
            "order": null,
            "_view_module_version": "1.2.0",
            "grid_template_areas": null,
            "object_position": null,
            "object_fit": null,
            "grid_auto_columns": null,
            "margin": null,
            "display": null,
            "left": null
          }
        },
        "2845d24370fd432da5cefc4c42c48df5": {
          "model_module": "@jupyter-widgets/controls",
          "model_name": "DescriptionStyleModel",
          "model_module_version": "1.5.0",
          "state": {
            "_view_name": "StyleView",
            "_model_name": "DescriptionStyleModel",
            "description_width": "",
            "_view_module": "@jupyter-widgets/base",
            "_model_module_version": "1.5.0",
            "_view_count": null,
            "_view_module_version": "1.2.0",
            "_model_module": "@jupyter-widgets/controls"
          }
        },
        "492a54f3b8594cc3af2ee6a11ece17ea": {
          "model_module": "@jupyter-widgets/base",
          "model_name": "LayoutModel",
          "model_module_version": "1.2.0",
          "state": {
            "_view_name": "LayoutView",
            "grid_template_rows": null,
            "right": null,
            "justify_content": null,
            "_view_module": "@jupyter-widgets/base",
            "overflow": null,
            "_model_module_version": "1.2.0",
            "_view_count": null,
            "flex_flow": null,
            "width": null,
            "min_width": null,
            "border": null,
            "align_items": null,
            "bottom": null,
            "_model_module": "@jupyter-widgets/base",
            "top": null,
            "grid_column": null,
            "overflow_y": null,
            "overflow_x": null,
            "grid_auto_flow": null,
            "grid_area": null,
            "grid_template_columns": null,
            "flex": null,
            "_model_name": "LayoutModel",
            "justify_items": null,
            "grid_row": null,
            "max_height": null,
            "align_content": null,
            "visibility": null,
            "align_self": null,
            "height": null,
            "min_height": null,
            "padding": null,
            "grid_auto_rows": null,
            "grid_gap": null,
            "max_width": null,
            "order": null,
            "_view_module_version": "1.2.0",
            "grid_template_areas": null,
            "object_position": null,
            "object_fit": null,
            "grid_auto_columns": null,
            "margin": null,
            "display": null,
            "left": null
          }
        },
        "6bc0ffb262754226aaa997bf6db478c1": {
          "model_module": "@jupyter-widgets/controls",
          "model_name": "HBoxModel",
          "model_module_version": "1.5.0",
          "state": {
            "_view_name": "HBoxView",
            "_dom_classes": [],
            "_model_name": "HBoxModel",
            "_view_module": "@jupyter-widgets/controls",
            "_model_module_version": "1.5.0",
            "_view_count": null,
            "_view_module_version": "1.5.0",
            "box_style": "",
            "layout": "IPY_MODEL_4276ec90ff8c47d98c3aa4e0d4b62a37",
            "_model_module": "@jupyter-widgets/controls",
            "children": [
              "IPY_MODEL_7381384a3026487f9a89a21fe46b7050",
              "IPY_MODEL_22d54c24c81c462ab31bbdc6268e5aca",
              "IPY_MODEL_59f3883c0c3f4e88bbb95dedf9a21585"
            ]
          }
        },
        "4276ec90ff8c47d98c3aa4e0d4b62a37": {
          "model_module": "@jupyter-widgets/base",
          "model_name": "LayoutModel",
          "model_module_version": "1.2.0",
          "state": {
            "_view_name": "LayoutView",
            "grid_template_rows": null,
            "right": null,
            "justify_content": null,
            "_view_module": "@jupyter-widgets/base",
            "overflow": null,
            "_model_module_version": "1.2.0",
            "_view_count": null,
            "flex_flow": null,
            "width": null,
            "min_width": null,
            "border": null,
            "align_items": null,
            "bottom": null,
            "_model_module": "@jupyter-widgets/base",
            "top": null,
            "grid_column": null,
            "overflow_y": null,
            "overflow_x": null,
            "grid_auto_flow": null,
            "grid_area": null,
            "grid_template_columns": null,
            "flex": null,
            "_model_name": "LayoutModel",
            "justify_items": null,
            "grid_row": null,
            "max_height": null,
            "align_content": null,
            "visibility": null,
            "align_self": null,
            "height": null,
            "min_height": null,
            "padding": null,
            "grid_auto_rows": null,
            "grid_gap": null,
            "max_width": null,
            "order": null,
            "_view_module_version": "1.2.0",
            "grid_template_areas": null,
            "object_position": null,
            "object_fit": null,
            "grid_auto_columns": null,
            "margin": null,
            "display": null,
            "left": null
          }
        },
        "7381384a3026487f9a89a21fe46b7050": {
          "model_module": "@jupyter-widgets/controls",
          "model_name": "HTMLModel",
          "model_module_version": "1.5.0",
          "state": {
            "_view_name": "HTMLView",
            "style": "IPY_MODEL_62eb99ccd6bd49dfbd2cc3de0b95b0aa",
            "_dom_classes": [],
            "description": "",
            "_model_name": "HTMLModel",
            "placeholder": "​",
            "_view_module": "@jupyter-widgets/controls",
            "_model_module_version": "1.5.0",
            "value": "100%",
            "_view_count": null,
            "_view_module_version": "1.5.0",
            "description_tooltip": null,
            "_model_module": "@jupyter-widgets/controls",
            "layout": "IPY_MODEL_90c6da4a21bf4f38abb966ca21f311b9"
          }
        },
        "22d54c24c81c462ab31bbdc6268e5aca": {
          "model_module": "@jupyter-widgets/controls",
          "model_name": "FloatProgressModel",
          "model_module_version": "1.5.0",
          "state": {
            "_view_name": "ProgressView",
            "style": "IPY_MODEL_ecf4d094d5b14125a2459d50d714bee8",
            "_dom_classes": [],
            "description": "",
            "_model_name": "FloatProgressModel",
            "bar_style": "success",
            "max": 982,
            "_view_module": "@jupyter-widgets/controls",
            "_model_module_version": "1.5.0",
            "value": 982,
            "_view_count": null,
            "_view_module_version": "1.5.0",
            "orientation": "horizontal",
            "min": 0,
            "description_tooltip": null,
            "_model_module": "@jupyter-widgets/controls",
            "layout": "IPY_MODEL_8f008825767a45219dd9642677bf8822"
          }
        },
        "59f3883c0c3f4e88bbb95dedf9a21585": {
          "model_module": "@jupyter-widgets/controls",
          "model_name": "HTMLModel",
          "model_module_version": "1.5.0",
          "state": {
            "_view_name": "HTMLView",
            "style": "IPY_MODEL_c9c74b3f1caa487d95f7b5fb75078eac",
            "_dom_classes": [],
            "description": "",
            "_model_name": "HTMLModel",
            "placeholder": "​",
            "_view_module": "@jupyter-widgets/controls",
            "_model_module_version": "1.5.0",
            "value": " 982/982 [00:00&lt;00:00, 6998.44it/s]",
            "_view_count": null,
            "_view_module_version": "1.5.0",
            "description_tooltip": null,
            "_model_module": "@jupyter-widgets/controls",
            "layout": "IPY_MODEL_15afa5fad6434aae91e4145e4a5b33b2"
          }
        },
        "62eb99ccd6bd49dfbd2cc3de0b95b0aa": {
          "model_module": "@jupyter-widgets/controls",
          "model_name": "DescriptionStyleModel",
          "model_module_version": "1.5.0",
          "state": {
            "_view_name": "StyleView",
            "_model_name": "DescriptionStyleModel",
            "description_width": "",
            "_view_module": "@jupyter-widgets/base",
            "_model_module_version": "1.5.0",
            "_view_count": null,
            "_view_module_version": "1.2.0",
            "_model_module": "@jupyter-widgets/controls"
          }
        },
        "90c6da4a21bf4f38abb966ca21f311b9": {
          "model_module": "@jupyter-widgets/base",
          "model_name": "LayoutModel",
          "model_module_version": "1.2.0",
          "state": {
            "_view_name": "LayoutView",
            "grid_template_rows": null,
            "right": null,
            "justify_content": null,
            "_view_module": "@jupyter-widgets/base",
            "overflow": null,
            "_model_module_version": "1.2.0",
            "_view_count": null,
            "flex_flow": null,
            "width": null,
            "min_width": null,
            "border": null,
            "align_items": null,
            "bottom": null,
            "_model_module": "@jupyter-widgets/base",
            "top": null,
            "grid_column": null,
            "overflow_y": null,
            "overflow_x": null,
            "grid_auto_flow": null,
            "grid_area": null,
            "grid_template_columns": null,
            "flex": null,
            "_model_name": "LayoutModel",
            "justify_items": null,
            "grid_row": null,
            "max_height": null,
            "align_content": null,
            "visibility": null,
            "align_self": null,
            "height": null,
            "min_height": null,
            "padding": null,
            "grid_auto_rows": null,
            "grid_gap": null,
            "max_width": null,
            "order": null,
            "_view_module_version": "1.2.0",
            "grid_template_areas": null,
            "object_position": null,
            "object_fit": null,
            "grid_auto_columns": null,
            "margin": null,
            "display": null,
            "left": null
          }
        },
        "ecf4d094d5b14125a2459d50d714bee8": {
          "model_module": "@jupyter-widgets/controls",
          "model_name": "ProgressStyleModel",
          "model_module_version": "1.5.0",
          "state": {
            "_view_name": "StyleView",
            "_model_name": "ProgressStyleModel",
            "description_width": "",
            "_view_module": "@jupyter-widgets/base",
            "_model_module_version": "1.5.0",
            "_view_count": null,
            "_view_module_version": "1.2.0",
            "bar_color": null,
            "_model_module": "@jupyter-widgets/controls"
          }
        },
        "8f008825767a45219dd9642677bf8822": {
          "model_module": "@jupyter-widgets/base",
          "model_name": "LayoutModel",
          "model_module_version": "1.2.0",
          "state": {
            "_view_name": "LayoutView",
            "grid_template_rows": null,
            "right": null,
            "justify_content": null,
            "_view_module": "@jupyter-widgets/base",
            "overflow": null,
            "_model_module_version": "1.2.0",
            "_view_count": null,
            "flex_flow": null,
            "width": null,
            "min_width": null,
            "border": null,
            "align_items": null,
            "bottom": null,
            "_model_module": "@jupyter-widgets/base",
            "top": null,
            "grid_column": null,
            "overflow_y": null,
            "overflow_x": null,
            "grid_auto_flow": null,
            "grid_area": null,
            "grid_template_columns": null,
            "flex": null,
            "_model_name": "LayoutModel",
            "justify_items": null,
            "grid_row": null,
            "max_height": null,
            "align_content": null,
            "visibility": null,
            "align_self": null,
            "height": null,
            "min_height": null,
            "padding": null,
            "grid_auto_rows": null,
            "grid_gap": null,
            "max_width": null,
            "order": null,
            "_view_module_version": "1.2.0",
            "grid_template_areas": null,
            "object_position": null,
            "object_fit": null,
            "grid_auto_columns": null,
            "margin": null,
            "display": null,
            "left": null
          }
        },
        "c9c74b3f1caa487d95f7b5fb75078eac": {
          "model_module": "@jupyter-widgets/controls",
          "model_name": "DescriptionStyleModel",
          "model_module_version": "1.5.0",
          "state": {
            "_view_name": "StyleView",
            "_model_name": "DescriptionStyleModel",
            "description_width": "",
            "_view_module": "@jupyter-widgets/base",
            "_model_module_version": "1.5.0",
            "_view_count": null,
            "_view_module_version": "1.2.0",
            "_model_module": "@jupyter-widgets/controls"
          }
        },
        "15afa5fad6434aae91e4145e4a5b33b2": {
          "model_module": "@jupyter-widgets/base",
          "model_name": "LayoutModel",
          "model_module_version": "1.2.0",
          "state": {
            "_view_name": "LayoutView",
            "grid_template_rows": null,
            "right": null,
            "justify_content": null,
            "_view_module": "@jupyter-widgets/base",
            "overflow": null,
            "_model_module_version": "1.2.0",
            "_view_count": null,
            "flex_flow": null,
            "width": null,
            "min_width": null,
            "border": null,
            "align_items": null,
            "bottom": null,
            "_model_module": "@jupyter-widgets/base",
            "top": null,
            "grid_column": null,
            "overflow_y": null,
            "overflow_x": null,
            "grid_auto_flow": null,
            "grid_area": null,
            "grid_template_columns": null,
            "flex": null,
            "_model_name": "LayoutModel",
            "justify_items": null,
            "grid_row": null,
            "max_height": null,
            "align_content": null,
            "visibility": null,
            "align_self": null,
            "height": null,
            "min_height": null,
            "padding": null,
            "grid_auto_rows": null,
            "grid_gap": null,
            "max_width": null,
            "order": null,
            "_view_module_version": "1.2.0",
            "grid_template_areas": null,
            "object_position": null,
            "object_fit": null,
            "grid_auto_columns": null,
            "margin": null,
            "display": null,
            "left": null
          }
        }
      }
    }
  },
  "cells": [
    {
      "cell_type": "markdown",
      "metadata": {
        "id": "PxsnuQoYp-e_"
      },
      "source": [
        "# Data Analytics on Stackoverflow Data"
      ]
    },
    {
      "cell_type": "markdown",
      "metadata": {
        "id": "dtqx7lwPrEqo"
      },
      "source": [
        "## Backend"
      ]
    },
    {
      "cell_type": "markdown",
      "metadata": {
        "id": "pOoqs30PqCuE"
      },
      "source": [
        "### Install and import dependencies"
      ]
    },
    {
      "cell_type": "code",
      "metadata": {
        "colab": {
          "base_uri": "https://localhost:8080/"
        },
        "id": "n_ymdCSap5ef",
        "outputId": "22d2cdd8-b352-466a-edd5-75b4d2c60b3f"
      },
      "source": [
        "!pip install requests-html requests pandas"
      ],
      "execution_count": 20,
      "outputs": [
        {
          "output_type": "stream",
          "name": "stdout",
          "text": [
            "Requirement already satisfied: requests-html in /usr/local/lib/python3.7/dist-packages (0.10.0)\n",
            "Requirement already satisfied: requests in /usr/local/lib/python3.7/dist-packages (2.23.0)\n",
            "Requirement already satisfied: pandas in /usr/local/lib/python3.7/dist-packages (1.1.5)\n",
            "Requirement already satisfied: fake-useragent in /usr/local/lib/python3.7/dist-packages (from requests-html) (0.1.11)\n",
            "Requirement already satisfied: pyquery in /usr/local/lib/python3.7/dist-packages (from requests-html) (1.4.3)\n",
            "Requirement already satisfied: parse in /usr/local/lib/python3.7/dist-packages (from requests-html) (1.19.0)\n",
            "Requirement already satisfied: bs4 in /usr/local/lib/python3.7/dist-packages (from requests-html) (0.0.1)\n",
            "Requirement already satisfied: w3lib in /usr/local/lib/python3.7/dist-packages (from requests-html) (1.22.0)\n",
            "Requirement already satisfied: pyppeteer>=0.0.14 in /usr/local/lib/python3.7/dist-packages (from requests-html) (0.2.6)\n",
            "Requirement already satisfied: tqdm<5.0.0,>=4.42.1 in /usr/local/lib/python3.7/dist-packages (from pyppeteer>=0.0.14->requests-html) (4.62.3)\n",
            "Requirement already satisfied: appdirs<2.0.0,>=1.4.3 in /usr/local/lib/python3.7/dist-packages (from pyppeteer>=0.0.14->requests-html) (1.4.4)\n",
            "Requirement already satisfied: importlib-metadata>=1.4 in /usr/local/lib/python3.7/dist-packages (from pyppeteer>=0.0.14->requests-html) (4.8.2)\n",
            "Requirement already satisfied: pyee<9.0.0,>=8.1.0 in /usr/local/lib/python3.7/dist-packages (from pyppeteer>=0.0.14->requests-html) (8.2.2)\n",
            "Requirement already satisfied: websockets<10.0,>=9.1 in /usr/local/lib/python3.7/dist-packages (from pyppeteer>=0.0.14->requests-html) (9.1)\n",
            "Requirement already satisfied: urllib3<2.0.0,>=1.25.8 in /usr/local/lib/python3.7/dist-packages (from pyppeteer>=0.0.14->requests-html) (1.25.11)\n",
            "Requirement already satisfied: zipp>=0.5 in /usr/local/lib/python3.7/dist-packages (from importlib-metadata>=1.4->pyppeteer>=0.0.14->requests-html) (3.6.0)\n",
            "Requirement already satisfied: typing-extensions>=3.6.4 in /usr/local/lib/python3.7/dist-packages (from importlib-metadata>=1.4->pyppeteer>=0.0.14->requests-html) (3.10.0.2)\n",
            "Requirement already satisfied: idna<3,>=2.5 in /usr/local/lib/python3.7/dist-packages (from requests) (2.10)\n",
            "Requirement already satisfied: chardet<4,>=3.0.2 in /usr/local/lib/python3.7/dist-packages (from requests) (3.0.4)\n",
            "Requirement already satisfied: certifi>=2017.4.17 in /usr/local/lib/python3.7/dist-packages (from requests) (2021.10.8)\n",
            "Requirement already satisfied: pytz>=2017.2 in /usr/local/lib/python3.7/dist-packages (from pandas) (2018.9)\n",
            "Requirement already satisfied: numpy>=1.15.4 in /usr/local/lib/python3.7/dist-packages (from pandas) (1.19.5)\n",
            "Requirement already satisfied: python-dateutil>=2.7.3 in /usr/local/lib/python3.7/dist-packages (from pandas) (2.8.2)\n",
            "Requirement already satisfied: six>=1.5 in /usr/local/lib/python3.7/dist-packages (from python-dateutil>=2.7.3->pandas) (1.15.0)\n",
            "Requirement already satisfied: beautifulsoup4 in /usr/local/lib/python3.7/dist-packages (from bs4->requests-html) (4.6.3)\n",
            "Requirement already satisfied: lxml>=2.1 in /usr/local/lib/python3.7/dist-packages (from pyquery->requests-html) (4.2.6)\n",
            "Requirement already satisfied: cssselect>0.7.9 in /usr/local/lib/python3.7/dist-packages (from pyquery->requests-html) (1.1.0)\n"
          ]
        }
      ]
    },
    {
      "cell_type": "code",
      "metadata": {
        "colab": {
          "base_uri": "https://localhost:8080/"
        },
        "id": "ppSkEd8JqEYn",
        "outputId": "6c922ff5-a9ae-4922-ffce-e501b9c222d8"
      },
      "source": [
        "!pip install seaborn"
      ],
      "execution_count": 21,
      "outputs": [
        {
          "output_type": "stream",
          "name": "stdout",
          "text": [
            "Requirement already satisfied: seaborn in /usr/local/lib/python3.7/dist-packages (0.11.2)\n",
            "Requirement already satisfied: scipy>=1.0 in /usr/local/lib/python3.7/dist-packages (from seaborn) (1.4.1)\n",
            "Requirement already satisfied: numpy>=1.15 in /usr/local/lib/python3.7/dist-packages (from seaborn) (1.19.5)\n",
            "Requirement already satisfied: pandas>=0.23 in /usr/local/lib/python3.7/dist-packages (from seaborn) (1.1.5)\n",
            "Requirement already satisfied: matplotlib>=2.2 in /usr/local/lib/python3.7/dist-packages (from seaborn) (3.2.2)\n",
            "Requirement already satisfied: cycler>=0.10 in /usr/local/lib/python3.7/dist-packages (from matplotlib>=2.2->seaborn) (0.11.0)\n",
            "Requirement already satisfied: kiwisolver>=1.0.1 in /usr/local/lib/python3.7/dist-packages (from matplotlib>=2.2->seaborn) (1.3.2)\n",
            "Requirement already satisfied: pyparsing!=2.0.4,!=2.1.2,!=2.1.6,>=2.0.1 in /usr/local/lib/python3.7/dist-packages (from matplotlib>=2.2->seaborn) (3.0.6)\n",
            "Requirement already satisfied: python-dateutil>=2.1 in /usr/local/lib/python3.7/dist-packages (from matplotlib>=2.2->seaborn) (2.8.2)\n",
            "Requirement already satisfied: pytz>=2017.2 in /usr/local/lib/python3.7/dist-packages (from pandas>=0.23->seaborn) (2018.9)\n",
            "Requirement already satisfied: six>=1.5 in /usr/local/lib/python3.7/dist-packages (from python-dateutil>=2.1->matplotlib>=2.2->seaborn) (1.15.0)\n"
          ]
        }
      ]
    },
    {
      "cell_type": "code",
      "metadata": {
        "id": "-woraWvkqS7d"
      },
      "source": [
        "import requests\n",
        "from requests_html import HTML\n",
        "import numpy as np\n",
        "import pandas as pd\n",
        "import random\n",
        "import os\n",
        "import time\n",
        "import warnings\n",
        "from tqdm import tqdm_notebook\n",
        "from collections import Counter\n",
        "from gensim.models import Word2Vec\n",
        "from sklearn.decomposition import PCA\n",
        "import matplotlib.pyplot as plt\n",
        "import seaborn as sns\n",
        "%matplotlib inline\n",
        "\n",
        "warnings.filterwarnings(\"ignore\")\n",
        "\n",
        "plt.rcParams['figure.figsize'] = (10.0, 10.0)"
      ],
      "execution_count": 22,
      "outputs": []
    },
    {
      "cell_type": "markdown",
      "metadata": {
        "id": "3vEMBOQJrPZg"
      },
      "source": [
        "### Scraping multiple pages"
      ]
    },
    {
      "cell_type": "markdown",
      "metadata": {
        "id": "zf_FtDU5rSNA"
      },
      "source": [
        "#### Functions for data manupulation and cleaning"
      ]
    },
    {
      "cell_type": "code",
      "metadata": {
        "id": "QgXgIyX6qWwY"
      },
      "source": [
        "def clean_scraped_data(text, keyname=None):\n",
        "  if keyname == 'user_name':\n",
        "    return text.split(\"\\n\")[0]\n",
        "  if keyname == 'votes':\n",
        "      if text != '1\\nvote':\n",
        "        return text.replace('\\nvotes', '')\n",
        "      else:\n",
        "        return text.replace('\\nvote', '')\n",
        "  if keyname == 'views':\n",
        "      return text.replace(' views', '')\n",
        "  if keyname == 'num_answers':\n",
        "    if text != '1answer':\n",
        "      return text.replace('answers', '')\n",
        "    else:\n",
        "      return text.replace('answer', '')\n",
        "  return text"
      ],
      "execution_count": 23,
      "outputs": []
    },
    {
      "cell_type": "code",
      "metadata": {
        "id": "uOTUtxwWrY-a"
      },
      "source": [
        "def evaluate(text, keyname=None):\n",
        "  if keyname == 'votes' or keyname == 'views' or keyname == 'num_answers':\n",
        "    if text[-1] == 'k':\n",
        "      text = pd.eval(text.replace('k', ' * 10**3',1))\n",
        "    elif text[-1] == 'm':\n",
        "      text = pd.eval(text.replace('m', ' * 10**6',1))\n",
        "  return text"
      ],
      "execution_count": 24,
      "outputs": []
    },
    {
      "cell_type": "markdown",
      "metadata": {
        "id": "pK2ROWagrc0n"
      },
      "source": [
        "#### Function for Parsing the web page"
      ]
    },
    {
      "cell_type": "code",
      "metadata": {
        "id": "_X74x8dJrejn"
      },
      "source": [
        "def parse_tagged_page(html):\n",
        "  question_summaries = html.find(\".question-summary\")\n",
        "  key_names = ['question', 'votes', 'views', 'num_answers', 'tags', 'user_name', 'date']\n",
        "  classes_names = ['.question-hyperlink', '.vote', '.views', '.status', '.tags', '.user-details', '.relativetime']\n",
        "  datas = []\n",
        "  for el in question_summaries:\n",
        "      question_data = {} \n",
        "      for i, _class in enumerate(classes_names):\n",
        "          sub_el = el.find(_class, first=True)\n",
        "          keyname = key_names[i]\n",
        "          question_data[keyname] = clean_scraped_data(sub_el.text, keyname=keyname)\n",
        "          question_data[keyname] = evaluate(question_data[keyname], keyname=keyname)\n",
        "\n",
        "      datas.append(question_data)\n",
        "  return datas"
      ],
      "execution_count": 25,
      "outputs": []
    },
    {
      "cell_type": "markdown",
      "metadata": {
        "id": "fXJ4_PNorlow"
      },
      "source": [
        "#### Function for Extracting the data from url"
      ]
    },
    {
      "cell_type": "code",
      "metadata": {
        "id": "qej52zTsrmr3"
      },
      "source": [
        "def extract_data_from_url(url):\n",
        "  res = requests.get(url)\n",
        "  if res.status_code not in range(200, 299):\n",
        "      print(\"HTML response failure, retrying..\")\n",
        "      return []\n",
        "  html_str = res.text\n",
        "  html = HTML(html=html_str)\n",
        "  datas = parse_tagged_page(html)\n",
        "  return datas"
      ],
      "execution_count": 26,
      "outputs": []
    },
    {
      "cell_type": "markdown",
      "metadata": {
        "id": "P-mjBFjhuUmt"
      },
      "source": [
        "#### Function that estimates the sort query filter"
      ]
    },
    {
      "cell_type": "code",
      "metadata": {
        "id": "NPaQkZEPuTyP"
      },
      "source": [
        "def filter_sort(filter = None):\n",
        "  if filter == '1':\n",
        "    return \"Newest\"\n",
        "  elif filter == '2':\n",
        "    return \"RecentActivity\"\n",
        "  elif filter == '3':\n",
        "    return \"MostVotes\"\n",
        "  elif filter == '4':\n",
        "    return \"MostFrequent\"\n",
        "  elif filter == '5':\n",
        "    return \"BountyEndingSoon\"\n",
        "  else:\n",
        "    return []"
      ],
      "execution_count": 27,
      "outputs": []
    },
    {
      "cell_type": "markdown",
      "metadata": {
        "id": "LQAHkeO3r1gB"
      },
      "source": [
        "#### Main function for Scraping data "
      ]
    },
    {
      "cell_type": "code",
      "metadata": {
        "id": "Lc6mLfKJr38x"
      },
      "source": [
        "def scrape_tag(tag = None, query_filter = None, max_pages=20):\n",
        "  base_url = 'https://stackoverflow.com/questions/tagged/'\n",
        "  datas = []\n",
        "  for p in range(max_pages):\n",
        "      page_num = p + 1\n",
        "      url = f\"{base_url}{tag}?sort={query_filter}&page={page_num}\"\n",
        "      print(url)\n",
        "      datas += extract_data_from_url(url)\n",
        "      time.sleep(1.2)\n",
        "  df = pd.DataFrame(datas)\n",
        "  df['votes'] = df['votes'].astype(int)\n",
        "  df['num_answers'] = df['num_answers'].astype(int)\n",
        "  df['views'] = df['views'].astype(int)\n",
        "  df.to_csv(tag+\"_scraped.csv\", index=False)\n",
        "  return df"
      ],
      "execution_count": 28,
      "outputs": []
    },
    {
      "cell_type": "markdown",
      "metadata": {
        "id": "mVHRrlJTJLlY"
      },
      "source": [
        "### Data Analysis functions"
      ]
    },
    {
      "cell_type": "markdown",
      "metadata": {
        "id": "-N0ig6E-Kz9u"
      },
      "source": [
        "#### Analyse Votes\n",
        "\n"
      ]
    },
    {
      "cell_type": "code",
      "metadata": {
        "id": "_3sQluvIJ0p5"
      },
      "source": [
        "def ip_1(df=None):\n",
        "  print(\"\\nAnalyse Votes\")\n",
        "  sns.boxplot(df['votes'])\n",
        "  plt.show()\n",
        "  df['votes'].value_counts()/len(df)*100\n",
        "  sns.countplot(df['votes'])\n",
        "  plt.show()"
      ],
      "execution_count": 29,
      "outputs": []
    },
    {
      "cell_type": "markdown",
      "metadata": {
        "id": "2sroGM14LdsW"
      },
      "source": [
        "#### Analyse Number of Answers\n"
      ]
    },
    {
      "cell_type": "code",
      "metadata": {
        "id": "6xRojv10J2SJ"
      },
      "source": [
        "def ip_2(df=None):\n",
        "  print(\"\\nAnalyse Number of Answers\")\n",
        "  sns.boxplot(df['num_answers'])\n",
        "  plt.show()\n",
        "  df['num_answers'].value_counts()/len(df)*100\n",
        "  sns.countplot(df['num_answers'])\n",
        "  plt.show()"
      ],
      "execution_count": 30,
      "outputs": []
    },
    {
      "cell_type": "markdown",
      "metadata": {
        "id": "R7lWFXViLgMG"
      },
      "source": [
        "#### Analyse Views\n"
      ]
    },
    {
      "cell_type": "code",
      "metadata": {
        "id": "X8mcWj_SJ3Yi"
      },
      "source": [
        "def ip_3(df=None):\n",
        "  print(\"\\nAnalyse Views\")\n",
        "  sns.boxplot(df['views'])\n",
        "  plt.show()\n",
        "  df['views'].value_counts()/len(df)*100\n",
        "  sns.countplot(df['views'])\n",
        "  plt.show()"
      ],
      "execution_count": 31,
      "outputs": []
    },
    {
      "cell_type": "markdown",
      "metadata": {
        "id": "N6sQBfy-Li-_"
      },
      "source": [
        "#### Are the tags mentioned in questions similar to each other?\n"
      ]
    },
    {
      "cell_type": "code",
      "metadata": {
        "id": "eqNjA4fLJ4oy"
      },
      "source": [
        "def ip_4(df=None):\n",
        "  print(\"\\nAre the tags mentioned in questions similar to each other?\")\n",
        "  tags = []\n",
        "  for tag in list(df['tags']):\n",
        "    tags.append(tag.split(' '))\n",
        "\n",
        "  embedding = Word2Vec(tags, sg=1, size=256, min_count=1)\n",
        "  X = embedding[embedding.wv.vocab]\n",
        "  pca = PCA(n_components=2)\n",
        "  result = pca.fit_transform(X)\n",
        "\n",
        "  fig, ax = plt.subplots()\n",
        "  ax.plot(result[:, 0], result[:, 1], 'o')\n",
        "  ax.set_title('Embeddings - Spread')\n",
        "\n",
        "  fig, ax = plt.subplots()\n",
        "  ax.set_title('Embeddings - Annotated')\n",
        "  ax.scatter(result[:25, 0], result[:25, 1])\n",
        "  for j, txt in enumerate(list(embedding.wv.vocab)[:25]):\n",
        "    ax.annotate(txt, result[j])\n",
        "    \n",
        "  plt.show()\n"
      ],
      "execution_count": 32,
      "outputs": []
    },
    {
      "cell_type": "markdown",
      "metadata": {
        "id": "luGW2N69LlZ3"
      },
      "source": [
        "#### Which tags are popularly used by Stackoverflow community in this domain?"
      ]
    },
    {
      "cell_type": "code",
      "metadata": {
        "id": "4EXD1f3jJLEK"
      },
      "source": [
        "def ip_5(df=None):\n",
        "  print(\"\\nWhich tags are popularly used by Stackoverflow community in this domain?\")\n",
        "  tags_list = list(df['tags'].unique())\n",
        "  all_tags = []\n",
        "  for tag in tqdm_notebook(tags_list):\n",
        "      all_tags += tag.split(' ')\n",
        "\n",
        "  count_tags = Counter(all_tags)\n",
        "  tags_list = pd.DataFrame([list(count_tags.keys()), list(count_tags.values())])\n",
        "  tags_list = tags_list.transpose()\n",
        "  tags_list.columns = ['tags', 'counts']\n",
        "  tags_list = tags_list.sort_values(by='counts', ascending=False)\n",
        "\n",
        "  plt.barh(list(tags_list['tags'])[:25], list(tags_list['counts'])[:25])\n",
        "  plt.ylabel('Tags -->')\n",
        "  plt.xlabel('Count -->')\n",
        "  plt.title('25 Most Popular Tags')\n",
        "  plt.show()"
      ],
      "execution_count": 33,
      "outputs": []
    },
    {
      "cell_type": "markdown",
      "metadata": {
        "id": "OqiwuvwvLtYY"
      },
      "source": [
        "#### How many tags are present per question?\n"
      ]
    },
    {
      "cell_type": "code",
      "metadata": {
        "id": "icjB0LmoJnj6"
      },
      "source": [
        "def ip_6(df=None):\n",
        "    print(\"\\nHow many tags are present per question?\")\n",
        "    tags = list(df['tags'].unique())\n",
        "    num_tags = []\n",
        "\n",
        "    for tag_ in tqdm_notebook(tags):\n",
        "        num_tags.append(len(tag_.split(' ')))\n",
        "\n",
        "    num_tags = Counter(num_tags)\n",
        "\n",
        "    plt.bar(list(num_tags.keys()), list(num_tags.values()))\n",
        "    plt.xlabel('Number of tags -->')\n",
        "    plt.ylabel('Number of questions -->')\n",
        "    plt.title('Number of Tags per question')\n",
        "    plt.show()"
      ],
      "execution_count": 34,
      "outputs": []
    },
    {
      "cell_type": "markdown",
      "metadata": {
        "id": "M3AVBnt8LvLH"
      },
      "source": [
        "#### Are the number of views of question statistically related to number of answers?\n"
      ]
    },
    {
      "cell_type": "code",
      "metadata": {
        "id": "IN_BPsYnJwMT"
      },
      "source": [
        "def ip_7(df=None):\n",
        "  print(\"\\nAre the number of views of question statistically related to number of answers?\")\n",
        "  view_q = df[['views', 'num_answers']].drop_duplicates().reset_index(drop=True)\n",
        "  display(view_q.astype(int).describe())"
      ],
      "execution_count": 35,
      "outputs": []
    },
    {
      "cell_type": "markdown",
      "metadata": {
        "id": "lDsZHAXiLw_v"
      },
      "source": [
        "#### Are the tags related to Views?\n"
      ]
    },
    {
      "cell_type": "code",
      "metadata": {
        "id": "hYiAX4-GJ7-b"
      },
      "source": [
        "def ip_8(df=None):\n",
        "  print(\"\\nAre the tags related to Views?\")\n",
        "  tag_views = df[['tags', 'views']].drop_duplicates().reset_index(drop=True)\n",
        "  tagView = {}\n",
        "  for i in tqdm_notebook(range(len(tag_views['tags']))):\n",
        "      for tag in tag_views['tags'][i].split(' '):\n",
        "          try:\n",
        "              tagView[tag].append(tag_views['views'][i])\n",
        "          except Exception:\n",
        "              tagView[tag] = [tag_views['views'][i]]\n",
        "  tagViewAvg = {}\n",
        "  for key in list(tagView.keys()):\n",
        "      tagViewAvg[key] = np.average(tagView[key])\n",
        "\n",
        "  tagViewAvg = pd.DataFrame([list(tagViewAvg.keys()), list(tagViewAvg.values())])\n",
        "  tagViewAvg = tagViewAvg.transpose()\n",
        "  tagViewAvg.columns = ['tags', 'views']\n",
        "  tagViewAvg = tagViewAvg.sort_values('views')\n",
        "\n",
        "  plt.barh(list(tagViewAvg['tags'])[-25:], list(tagViewAvg['views'])[-25:])\n",
        "  plt.xlabel('Average number of Views -->')\n",
        "  plt.ylabel('Tags -->')\n",
        "  plt.title('25 - Most Popular Tags')\n",
        "  plt.show()\n",
        "\n",
        "  fig, ax = plt.subplots(2, 2)\n",
        "\n",
        "  ax[0][0].plot([0] + tagView['python'])\n",
        "  ax[0][0].set_title('python')\n",
        "\n",
        "  ax[0][1].plot([0] + tagView['c'])\n",
        "  ax[0][1].set_title('c')\n",
        "\n",
        "  ax[1][0].plot([0] + tagView['java'])\n",
        "  ax[1][0].set_title('java')\n",
        "\n",
        "  ax[1][1].plot([0] + tagView['c#'])\n",
        "  ax[1][1].set_title('c#')\n",
        "  plt.show()"
      ],
      "execution_count": 36,
      "outputs": []
    },
    {
      "cell_type": "markdown",
      "metadata": {
        "id": "YDdqOSHkMLkX"
      },
      "source": [
        "#### Analyse Votes, Number of Answers, Views"
      ]
    },
    {
      "cell_type": "code",
      "metadata": {
        "id": "N_rxO9FZJ9JT"
      },
      "source": [
        "def ip_9(df=None):\n",
        "  print(\"\\nAnalyse Votes, Number of Answers, Views\")\n",
        "  print(\"\\nPair plot: \")\n",
        "  sns.pairplot(df)\n",
        "  plt.show()\n",
        "  print(\"\\nCorrelation plot: \")\n",
        "  sns.heatmap(df.corr())\n",
        "  plt.show()"
      ],
      "execution_count": 37,
      "outputs": []
    },
    {
      "cell_type": "markdown",
      "metadata": {
        "id": "3bmjHW_isTrh"
      },
      "source": [
        "## Front end"
      ]
    },
    {
      "cell_type": "code",
      "metadata": {
        "colab": {
          "base_uri": "https://localhost:8080/",
          "height": 1000,
          "referenced_widgets": [
            "ed5377ff41b34e1697069acfcf8b05ca",
            "e34e12e64034465b905d3a9fdeb61ef3",
            "757791b07b8843bb82e3370c15754319",
            "47bf9fd43b84411cba0f94a1912fcee8",
            "6fdca587bc6e424d89ccf63b9c998217",
            "b707c97095244df99cab7caf92781b03",
            "c32cfb199b58407e9767f0935923779b",
            "6f91955915a9456badfed54e79de05a8",
            "e11df5436b284cb1b67ffa9fbfffc8da",
            "e368ea472d224c6c89fdfdef5869e33b",
            "2e87ca7cde2d4a34afe5f09fb7cdd3a1",
            "4c69767dab2c4c189c97e3601cd15b49",
            "579fcda22ad144b4808a3c3777e42849",
            "31e5746b7a6547fc824a2124b934bfd1",
            "9998972d1d8b4019a80f2512d861ce8f",
            "5c8cda7c674841419d1d1162ec00c5f8",
            "b6e7fdd94c7d400a8826eda0172be94c",
            "57242362be78486aa3f87f8fd10df263",
            "9c98b9225b1845dfbc6d018ea49ac5fe",
            "fc4a45756e1b41d391f40dbe4dd2fe39",
            "2845d24370fd432da5cefc4c42c48df5",
            "492a54f3b8594cc3af2ee6a11ece17ea",
            "6bc0ffb262754226aaa997bf6db478c1",
            "4276ec90ff8c47d98c3aa4e0d4b62a37",
            "7381384a3026487f9a89a21fe46b7050",
            "22d54c24c81c462ab31bbdc6268e5aca",
            "59f3883c0c3f4e88bbb95dedf9a21585",
            "62eb99ccd6bd49dfbd2cc3de0b95b0aa",
            "90c6da4a21bf4f38abb966ca21f311b9",
            "ecf4d094d5b14125a2459d50d714bee8",
            "8f008825767a45219dd9642677bf8822",
            "c9c74b3f1caa487d95f7b5fb75078eac",
            "15afa5fad6434aae91e4145e4a5b33b2"
          ]
        },
        "id": "EVxtgxVTsd0j",
        "outputId": "250d131b-da0c-4b2e-f1b1-4fc7b91ac1ba"
      },
      "source": [
        "print(\"*********************************************************************** StackOverflow Data Analysis *************************************************************************************************\")\n",
        "\n",
        "TAG = input(\"Hello!\\nOn which domain would you like to perform the analysis?\\nNote: Enter domain names without blank space between them.\\nFor example: Enter machine learning as machine-learning\\n\")\n",
        "filter = input(\"\\nWhich filter would you like to apply?\\n1.Newest\\n2.Recent activity\\n3.Most votes\\n4.Most frequent\\n5.Bounty ending soon\\n\")\n",
        "FILTER = filter_sort(filter)\n",
        "print(\"\\nCollecting data..\")\n",
        "df = scrape_tag(TAG,FILTER)\n",
        "print(\"Data collection successful.\")\n",
        "\n",
        "ip = 0\n",
        "while ip != '10':\n",
        "\n",
        "  ip = input(\"\\n\\n\\nWhich analysis would you like to perform?\"\n",
        "            \"\\n1.Analyse Votes\"\n",
        "            \"\\n2.Analyse Number of Answers\"\n",
        "            \"\\n3.Analyse Views\"\n",
        "            \"\\n4.Are the tags mentioned in questions similar to each other?\"\n",
        "            \"\\n5.Which tags are popularly used by Stackoverflow community in this domain?\"\n",
        "            \"\\n6.How many tags are present per question?\"\n",
        "            \"\\n7.Are the number of views of question statistically related to number of answers?\"\n",
        "            \"\\n8.Are the tags related to Views?\"\n",
        "            \"\\n9.Analyse Votes, Number of Answers, Views\"\n",
        "            \"\\n10.Exit\\n\")\n",
        "  \n",
        "  if ip == '1':\n",
        "    ip_1(df)\n",
        "\n",
        "  elif ip == '2':\n",
        "    ip_2(df)\n",
        "\n",
        "  elif ip == '3':\n",
        "    ip_3(df)\n",
        "  \n",
        "  elif ip == '4':\n",
        "    ip_4(df)\n",
        "\n",
        "  elif ip == '5':\n",
        "    ip_5(df)\n",
        "  \n",
        "  elif ip == '6':\n",
        "    ip_6(df)\n",
        "\n",
        "  elif ip == '7':\n",
        "    ip_7(df)\n",
        "\n",
        "    2\n",
        "  elif ip == '8':\n",
        "    ip_8(df)\n",
        "\n",
        "  elif ip == '9':\n",
        "    ip_9(df)\n"
      ],
      "execution_count": 38,
      "outputs": [
        {
          "output_type": "stream",
          "name": "stdout",
          "text": [
            "*********************************************************************** StackOverflow Data Analysis *************************************************************************************************\n",
            "Hello!\n",
            "On which domain would you like to perform the analysis?\n",
            "Note: Enter domain names without blank space between them.\n",
            "For example: Enter machine learning as machine-learning\n",
            "machine-learning\n",
            "\n",
            "Which filter would you like to apply?\n",
            "1.Newest\n",
            "2.Recent activity\n",
            "3.Most votes\n",
            "4.Most frequent\n",
            "5.Bounty ending soon\n",
            "4\n",
            "\n",
            "Collecting data..\n",
            "https://stackoverflow.com/questions/tagged/machine-learning?sort=MostFrequent&page=1\n",
            "https://stackoverflow.com/questions/tagged/machine-learning?sort=MostFrequent&page=2\n",
            "https://stackoverflow.com/questions/tagged/machine-learning?sort=MostFrequent&page=3\n",
            "https://stackoverflow.com/questions/tagged/machine-learning?sort=MostFrequent&page=4\n",
            "https://stackoverflow.com/questions/tagged/machine-learning?sort=MostFrequent&page=5\n",
            "https://stackoverflow.com/questions/tagged/machine-learning?sort=MostFrequent&page=6\n",
            "https://stackoverflow.com/questions/tagged/machine-learning?sort=MostFrequent&page=7\n",
            "https://stackoverflow.com/questions/tagged/machine-learning?sort=MostFrequent&page=8\n",
            "https://stackoverflow.com/questions/tagged/machine-learning?sort=MostFrequent&page=9\n",
            "https://stackoverflow.com/questions/tagged/machine-learning?sort=MostFrequent&page=10\n",
            "https://stackoverflow.com/questions/tagged/machine-learning?sort=MostFrequent&page=11\n",
            "https://stackoverflow.com/questions/tagged/machine-learning?sort=MostFrequent&page=12\n",
            "https://stackoverflow.com/questions/tagged/machine-learning?sort=MostFrequent&page=13\n",
            "https://stackoverflow.com/questions/tagged/machine-learning?sort=MostFrequent&page=14\n",
            "https://stackoverflow.com/questions/tagged/machine-learning?sort=MostFrequent&page=15\n",
            "https://stackoverflow.com/questions/tagged/machine-learning?sort=MostFrequent&page=16\n",
            "https://stackoverflow.com/questions/tagged/machine-learning?sort=MostFrequent&page=17\n",
            "https://stackoverflow.com/questions/tagged/machine-learning?sort=MostFrequent&page=18\n",
            "https://stackoverflow.com/questions/tagged/machine-learning?sort=MostFrequent&page=19\n",
            "https://stackoverflow.com/questions/tagged/machine-learning?sort=MostFrequent&page=20\n",
            "Data collection successful.\n",
            "\n",
            "\n",
            "\n",
            "Which analysis would you like to perform?\n",
            "1.Analyse Votes\n",
            "2.Analyse Number of Answers\n",
            "3.Analyse Views\n",
            "4.Are the tags mentioned in questions similar to each other?\n",
            "5.Which tags are popularly used by Stackoverflow community in this domain?\n",
            "6.How many tags are present per question?\n",
            "7.Are the number of views of question statistically related to number of answers?\n",
            "8.Are the tags related to Views?\n",
            "9.Analyse Votes, Number of Answers, Views\n",
            "10.Exit\n",
            "1\n",
            "\n",
            "Analyse Votes\n"
          ]
        },
        {
          "output_type": "display_data",
          "data": {
            "image/png": "[encoded data removed]",
            "text/plain": [
              "<Figure size 720x720 with 1 Axes>"
            ]
          },
          "metadata": {
            "needs_background": "light"
          }
        },
        {
          "output_type": "display_data",
          "data": {
            "image/png": "[encoded data removed]",
            "text/plain": [
              "<Figure size 720x720 with 1 Axes>"
            ]
          },
          "metadata": {
            "needs_background": "light"
          }
        },
        {
          "output_type": "stream",
          "name": "stdout",
          "text": [
            "\n",
            "\n",
            "\n",
            "Which analysis would you like to perform?\n",
            "1.Analyse Votes\n",
            "2.Analyse Number of Answers\n",
            "3.Analyse Views\n",
            "4.Are the tags mentioned in questions similar to each other?\n",
            "5.Which tags are popularly used by Stackoverflow community in this domain?\n",
            "6.How many tags are present per question?\n",
            "7.Are the number of views of question statistically related to number of answers?\n",
            "8.Are the tags related to Views?\n",
            "9.Analyse Votes, Number of Answers, Views\n",
            "10.Exit\n",
            "2\n",
            "\n",
            "Analyse Number of Answers\n"
          ]
        },
        {
          "output_type": "display_data",
          "data": {
            "image/png": "[encoded data removed]",
            "text/plain": [
              "<Figure size 720x720 with 1 Axes>"
            ]
          },
          "metadata": {
            "needs_background": "light"
          }
        },
        {
          "output_type": "display_data",
          "data": {
            "image/png": "[encoded data removed]",
            "text/plain": [
              "<Figure size 720x720 with 1 Axes>"
            ]
          },
          "metadata": {
            "needs_background": "light"
          }
        },
        {
          "output_type": "stream",
          "name": "stdout",
          "text": [
            "\n",
            "\n",
            "\n",
            "Which analysis would you like to perform?\n",
            "1.Analyse Votes\n",
            "2.Analyse Number of Answers\n",
            "3.Analyse Views\n",
            "4.Are the tags mentioned in questions similar to each other?\n",
            "5.Which tags are popularly used by Stackoverflow community in this domain?\n",
            "6.How many tags are present per question?\n",
            "7.Are the number of views of question statistically related to number of answers?\n",
            "8.Are the tags related to Views?\n",
            "9.Analyse Votes, Number of Answers, Views\n",
            "10.Exit\n",
            "3\n",
            "\n",
            "Analyse Views\n"
          ]
        },
        {
          "output_type": "display_data",
          "data": {
            "image/png": "[encoded data removed]",
            "text/plain": [
              "<Figure size 720x720 with 1 Axes>"
            ]
          },
          "metadata": {
            "needs_background": "light"
          }
        },
        {
          "output_type": "display_data",
          "data": {
            "image/png": "[encoded data removed]",
            "text/plain": [
              "<Figure size 720x720 with 1 Axes>"
            ]
          },
          "metadata": {
            "needs_background": "light"
          }
        },
        {
          "output_type": "stream",
          "name": "stdout",
          "text": [
            "\n",
            "\n",
            "\n",
            "Which analysis would you like to perform?\n",
            "1.Analyse Votes\n",
            "2.Analyse Number of Answers\n",
            "3.Analyse Views\n",
            "4.Are the tags mentioned in questions similar to each other?\n",
            "5.Which tags are popularly used by Stackoverflow community in this domain?\n",
            "6.How many tags are present per question?\n",
            "7.Are the number of views of question statistically related to number of answers?\n",
            "8.Are the tags related to Views?\n",
            "9.Analyse Votes, Number of Answers, Views\n",
            "10.Exit\n",
            "4\n",
            "\n",
            "Are the tags mentioned in questions similar to each other?\n"
          ]
        },
        {
          "output_type": "display_data",
          "data": {
            "image/png": "[encoded data removed]",
            "text/plain": [
              "<Figure size 720x720 with 1 Axes>"
            ]
          },
          "metadata": {
            "needs_background": "light"
          }
        },
        {
          "output_type": "display_data",
          "data": {
            "image/png": "[encoded data removed]",
            "text/plain": [
              "<Figure size 720x720 with 1 Axes>"
            ]
          },
          "metadata": {
            "needs_background": "light"
          }
        },
        {
          "output_type": "stream",
          "name": "stdout",
          "text": [
            "\n",
            "\n",
            "\n",
            "Which analysis would you like to perform?\n",
            "1.Analyse Votes\n",
            "2.Analyse Number of Answers\n",
            "3.Analyse Views\n",
            "4.Are the tags mentioned in questions similar to each other?\n",
            "5.Which tags are popularly used by Stackoverflow community in this domain?\n",
            "6.How many tags are present per question?\n",
            "7.Are the number of views of question statistically related to number of answers?\n",
            "8.Are the tags related to Views?\n",
            "9.Analyse Votes, Number of Answers, Views\n",
            "10.Exit\n",
            "5\n",
            "\n",
            "Which tags are popularly used by Stackoverflow community in this domain?\n"
          ]
        },
        {
          "output_type": "display_data",
          "data": {
            "application/vnd.jupyter.widget-view+json": {
              "model_id": "ed5377ff41b34e1697069acfcf8b05ca",
              "version_minor": 0,
              "version_major": 2
            },
            "text/plain": [
              "  0%|          | 0/821 [00:00<?, ?it/s]"
            ]
          },
          "metadata": {}
        },
        {
          "output_type": "display_data",
          "data": {
            "image/png": "[encoded data removed]",
            "text/plain": [
              "<Figure size 720x720 with 1 Axes>"
            ]
          },
          "metadata": {
            "needs_background": "light"
          }
        },
        {
          "output_type": "stream",
          "name": "stdout",
          "text": [
            "\n",
            "\n",
            "\n",
            "Which analysis would you like to perform?\n",
            "1.Analyse Votes\n",
            "2.Analyse Number of Answers\n",
            "3.Analyse Views\n",
            "4.Are the tags mentioned in questions similar to each other?\n",
            "5.Which tags are popularly used by Stackoverflow community in this domain?\n",
            "6.How many tags are present per question?\n",
            "7.Are the number of views of question statistically related to number of answers?\n",
            "8.Are the tags related to Views?\n",
            "9.Analyse Votes, Number of Answers, Views\n",
            "10.Exit\n",
            "6\n",
            "\n",
            "How many tags are present per question?\n"
          ]
        },
        {
          "output_type": "display_data",
          "data": {
            "application/vnd.jupyter.widget-view+json": {
              "model_id": "4c69767dab2c4c189c97e3601cd15b49",
              "version_minor": 0,
              "version_major": 2
            },
            "text/plain": [
              "  0%|          | 0/821 [00:00<?, ?it/s]"
            ]
          },
          "metadata": {}
        },
        {
          "output_type": "display_data",
          "data": {
            "image/png": "[encoded data removed]",
            "text/plain": [
              "<Figure size 720x720 with 1 Axes>"
            ]
          },
          "metadata": {
            "needs_background": "light"
          }
        },
        {
          "output_type": "stream",
          "name": "stdout",
          "text": [
            "\n",
            "\n",
            "\n",
            "Which analysis would you like to perform?\n",
            "1.Analyse Votes\n",
            "2.Analyse Number of Answers\n",
            "3.Analyse Views\n",
            "4.Are the tags mentioned in questions similar to each other?\n",
            "5.Which tags are popularly used by Stackoverflow community in this domain?\n",
            "6.How many tags are present per question?\n",
            "7.Are the number of views of question statistically related to number of answers?\n",
            "8.Are the tags related to Views?\n",
            "9.Analyse Votes, Number of Answers, Views\n",
            "10.Exit\n",
            "7\n",
            "\n",
            "Are the number of views of question statistically related to number of answers?\n"
          ]
        },
        {
          "output_type": "display_data",
          "data": {
            "text/html": [
              "<div>\n",
              "<style scoped>\n",
              "    .dataframe tbody tr th:only-of-type {\n",
              "        vertical-align: middle;\n",
              "    }\n",
              "\n",
              "    .dataframe tbody tr th {\n",
              "        vertical-align: top;\n",
              "    }\n",
              "\n",
              "    .dataframe thead th {\n",
              "        text-align: right;\n",
              "    }\n",
              "</style>\n",
              "<table border=\"1\" class=\"dataframe\">\n",
              "  <thead>\n",
              "    <tr style=\"text-align: right;\">\n",
              "      <th></th>\n",
              "      <th>views</th>\n",
              "      <th>num_answers</th>\n",
              "    </tr>\n",
              "  </thead>\n",
              "  <tbody>\n",
              "    <tr>\n",
              "      <th>count</th>\n",
              "      <td>439.000000</td>\n",
              "      <td>439.000000</td>\n",
              "    </tr>\n",
              "    <tr>\n",
              "      <th>mean</th>\n",
              "      <td>48743.164009</td>\n",
              "      <td>4.781321</td>\n",
              "    </tr>\n",
              "    <tr>\n",
              "      <th>std</th>\n",
              "      <td>60072.147189</td>\n",
              "      <td>4.115625</td>\n",
              "    </tr>\n",
              "    <tr>\n",
              "      <th>min</th>\n",
              "      <td>45.000000</td>\n",
              "      <td>0.000000</td>\n",
              "    </tr>\n",
              "    <tr>\n",
              "      <th>25%</th>\n",
              "      <td>11000.000000</td>\n",
              "      <td>2.000000</td>\n",
              "    </tr>\n",
              "    <tr>\n",
              "      <th>50%</th>\n",
              "      <td>31000.000000</td>\n",
              "      <td>4.000000</td>\n",
              "    </tr>\n",
              "    <tr>\n",
              "      <th>75%</th>\n",
              "      <td>60500.000000</td>\n",
              "      <td>6.000000</td>\n",
              "    </tr>\n",
              "    <tr>\n",
              "      <th>max</th>\n",
              "      <td>386000.000000</td>\n",
              "      <td>28.000000</td>\n",
              "    </tr>\n",
              "  </tbody>\n",
              "</table>\n",
              "</div>"
            ],
            "text/plain": [
              "               views  num_answers\n",
              "count     439.000000   439.000000\n",
              "mean    48743.164009     4.781321\n",
              "std     60072.147189     4.115625\n",
              "min        45.000000     0.000000\n",
              "25%     11000.000000     2.000000\n",
              "50%     31000.000000     4.000000\n",
              "75%     60500.000000     6.000000\n",
              "max    386000.000000    28.000000"
            ]
          },
          "metadata": {}
        },
        {
          "output_type": "stream",
          "name": "stdout",
          "text": [
            "\n",
            "\n",
            "\n",
            "Which analysis would you like to perform?\n",
            "1.Analyse Votes\n",
            "2.Analyse Number of Answers\n",
            "3.Analyse Views\n",
            "4.Are the tags mentioned in questions similar to each other?\n",
            "5.Which tags are popularly used by Stackoverflow community in this domain?\n",
            "6.How many tags are present per question?\n",
            "7.Are the number of views of question statistically related to number of answers?\n",
            "8.Are the tags related to Views?\n",
            "9.Analyse Votes, Number of Answers, Views\n",
            "10.Exit\n",
            "8\n",
            "\n",
            "Are the tags related to Views?\n"
          ]
        },
        {
          "output_type": "display_data",
          "data": {
            "application/vnd.jupyter.widget-view+json": {
              "model_id": "6bc0ffb262754226aaa997bf6db478c1",
              "version_minor": 0,
              "version_major": 2
            },
            "text/plain": [
              "  0%|          | 0/982 [00:00<?, ?it/s]"
            ]
          },
          "metadata": {}
        },
        {
          "output_type": "display_data",
          "data": {
            "image/png": "[encoded data removed]",
            "text/plain": [
              "<Figure size 720x720 with 1 Axes>"
            ]
          },
          "metadata": {
            "needs_background": "light"
          }
        },
        {
          "output_type": "display_data",
          "data": {
            "image/png": "[encoded data removed]",
            "text/plain": [
              "<Figure size 720x720 with 4 Axes>"
            ]
          },
          "metadata": {
            "needs_background": "light"
          }
        },
        {
          "output_type": "stream",
          "name": "stdout",
          "text": [
            "\n",
            "\n",
            "\n",
            "Which analysis would you like to perform?\n",
            "1.Analyse Votes\n",
            "2.Analyse Number of Answers\n",
            "3.Analyse Views\n",
            "4.Are the tags mentioned in questions similar to each other?\n",
            "5.Which tags are popularly used by Stackoverflow community in this domain?\n",
            "6.How many tags are present per question?\n",
            "7.Are the number of views of question statistically related to number of answers?\n",
            "8.Are the tags related to Views?\n",
            "9.Analyse Votes, Number of Answers, Views\n",
            "10.Exit\n",
            "9\n",
            "\n",
            "Analyse Votes, Number of Answers, Views\n",
            "\n",
            "Pair plot: \n"
          ]
        },
        {
          "output_type": "display_data",
          "data": {
            "image/png": "[encoded data removed]",
            "text/plain": [
              "<Figure size 540x540 with 12 Axes>"
            ]
          },
          "metadata": {
            "needs_background": "light"
          }
        },
        {
          "output_type": "stream",
          "name": "stdout",
          "text": [
            "\n",
            "Correlation plot: \n"
          ]
        },
        {
          "output_type": "display_data",
          "data": {
            "image/png": "[encoded data removed]",
            "text/plain": [
              "<Figure size 720x720 with 2 Axes>"
            ]
          },
          "metadata": {
            "needs_background": "light"
          }
        },
        {
          "name": "stdout",
          "output_type": "stream",
          "text": [
            "\n",
            "\n",
            "\n",
            "Which analysis would you like to perform?\n",
            "1.Analyse Votes\n",
            "2.Analyse Number of Answers\n",
            "3.Analyse Views\n",
            "4.Are the tags mentioned in questions similar to each other?\n",
            "5.Which tags are popularly used by Stackoverflow community in this domain?\n",
            "6.How many tags are present per question?\n",
            "7.Are the number of views of question statistically related to number of answers?\n",
            "8.Are the tags related to Views?\n",
            "9.Analyse Votes, Number of Answers, Views\n",
            "10.Exit\n",
            "10\n"
          ]
        }
      ]
    }
  ]
}