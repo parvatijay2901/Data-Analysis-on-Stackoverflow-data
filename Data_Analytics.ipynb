{
  "nbformat": 4,
  "nbformat_minor": 0,
  "metadata": {
    "colab": {
      "name": "Data_Analsis.ipynb",
      "provenance": [],
      "collapsed_sections": []
    },
    "kernelspec": {
      "name": "python3",
      "display_name": "Python 3"
    },
    "language_info": {
      "name": "python"
    },
    "widgets": {
      "application/vnd.jupyter.widget-state+json": {
        "45f8d5c45d4142e1b9b6a05434588979": {
          "model_module": "@jupyter-widgets/controls",
          "model_name": "HBoxModel",
          "model_module_version": "1.5.0",
          "state": {
            "_view_name": "HBoxView",
            "_dom_classes": [],
            "_model_name": "HBoxModel",
            "_view_module": "@jupyter-widgets/controls",
            "_model_module_version": "1.5.0",
            "_view_count": null,
            "_view_module_version": "1.5.0",
            "box_style": "",
            "layout": "IPY_MODEL_aeee84913d37484ab5265256022c2aaf",
            "_model_module": "@jupyter-widgets/controls",
            "children": [
              "IPY_MODEL_44d9a25e88bf491987b43a353baf4529",
              "IPY_MODEL_d7ae98eb54e248f6a923c56d2463d410",
              "IPY_MODEL_7b9ad6867ce44ab7bca4beda87ce6907"
            ]
          }
        },
        "aeee84913d37484ab5265256022c2aaf": {
          "model_module": "@jupyter-widgets/base",
          "model_name": "LayoutModel",
          "model_module_version": "1.2.0",
          "state": {
            "_view_name": "LayoutView",
            "grid_template_rows": null,
            "right": null,
            "justify_content": null,
            "_view_module": "@jupyter-widgets/base",
            "overflow": null,
            "_model_module_version": "1.2.0",
            "_view_count": null,
            "flex_flow": null,
            "width": null,
            "min_width": null,
            "border": null,
            "align_items": null,
            "bottom": null,
            "_model_module": "@jupyter-widgets/base",
            "top": null,
            "grid_column": null,
            "overflow_y": null,
            "overflow_x": null,
            "grid_auto_flow": null,
            "grid_area": null,
            "grid_template_columns": null,
            "flex": null,
            "_model_name": "LayoutModel",
            "justify_items": null,
            "grid_row": null,
            "max_height": null,
            "align_content": null,
            "visibility": null,
            "align_self": null,
            "height": null,
            "min_height": null,
            "padding": null,
            "grid_auto_rows": null,
            "grid_gap": null,
            "max_width": null,
            "order": null,
            "_view_module_version": "1.2.0",
            "grid_template_areas": null,
            "object_position": null,
            "object_fit": null,
            "grid_auto_columns": null,
            "margin": null,
            "display": null,
            "left": null
          }
        },
        "44d9a25e88bf491987b43a353baf4529": {
          "model_module": "@jupyter-widgets/controls",
          "model_name": "HTMLModel",
          "model_module_version": "1.5.0",
          "state": {
            "_view_name": "HTMLView",
            "style": "IPY_MODEL_af646031f68047799d96a59dc7ccfc5f",
            "_dom_classes": [],
            "description": "",
            "_model_name": "HTMLModel",
            "placeholder": "​",
            "_view_module": "@jupyter-widgets/controls",
            "_model_module_version": "1.5.0",
            "value": "100%",
            "_view_count": null,
            "_view_module_version": "1.5.0",
            "description_tooltip": null,
            "_model_module": "@jupyter-widgets/controls",
            "layout": "IPY_MODEL_962352470d4b45b8a5693c19fddc0e41"
          }
        },
        "d7ae98eb54e248f6a923c56d2463d410": {
          "model_module": "@jupyter-widgets/controls",
          "model_name": "FloatProgressModel",
          "model_module_version": "1.5.0",
          "state": {
            "_view_name": "ProgressView",
            "style": "IPY_MODEL_645e5cb925cc4f309da75df77b82cbae",
            "_dom_classes": [],
            "description": "",
            "_model_name": "FloatProgressModel",
            "bar_style": "success",
            "max": 825,
            "_view_module": "@jupyter-widgets/controls",
            "_model_module_version": "1.5.0",
            "value": 825,
            "_view_count": null,
            "_view_module_version": "1.5.0",
            "orientation": "horizontal",
            "min": 0,
            "description_tooltip": null,
            "_model_module": "@jupyter-widgets/controls",
            "layout": "IPY_MODEL_b5e9be86c1cc4b3dad4c05dcf16b6850"
          }
        },
        "7b9ad6867ce44ab7bca4beda87ce6907": {
          "model_module": "@jupyter-widgets/controls",
          "model_name": "HTMLModel",
          "model_module_version": "1.5.0",
          "state": {
            "_view_name": "HTMLView",
            "style": "IPY_MODEL_29cfb7650d5d44d6bc723432c0b928be",
            "_dom_classes": [],
            "description": "",
            "_model_name": "HTMLModel",
            "placeholder": "​",
            "_view_module": "@jupyter-widgets/controls",
            "_model_module_version": "1.5.0",
            "value": " 825/825 [00:00&lt;00:00, 17367.50it/s]",
            "_view_count": null,
            "_view_module_version": "1.5.0",
            "description_tooltip": null,
            "_model_module": "@jupyter-widgets/controls",
            "layout": "IPY_MODEL_64ce822d1f75410e8b014a37b1dd0ae7"
          }
        },
        "af646031f68047799d96a59dc7ccfc5f": {
          "model_module": "@jupyter-widgets/controls",
          "model_name": "DescriptionStyleModel",
          "model_module_version": "1.5.0",
          "state": {
            "_view_name": "StyleView",
            "_model_name": "DescriptionStyleModel",
            "description_width": "",
            "_view_module": "@jupyter-widgets/base",
            "_model_module_version": "1.5.0",
            "_view_count": null,
            "_view_module_version": "1.2.0",
            "_model_module": "@jupyter-widgets/controls"
          }
        },
        "962352470d4b45b8a5693c19fddc0e41": {
          "model_module": "@jupyter-widgets/base",
          "model_name": "LayoutModel",
          "model_module_version": "1.2.0",
          "state": {
            "_view_name": "LayoutView",
            "grid_template_rows": null,
            "right": null,
            "justify_content": null,
            "_view_module": "@jupyter-widgets/base",
            "overflow": null,
            "_model_module_version": "1.2.0",
            "_view_count": null,
            "flex_flow": null,
            "width": null,
            "min_width": null,
            "border": null,
            "align_items": null,
            "bottom": null,
            "_model_module": "@jupyter-widgets/base",
            "top": null,
            "grid_column": null,
            "overflow_y": null,
            "overflow_x": null,
            "grid_auto_flow": null,
            "grid_area": null,
            "grid_template_columns": null,
            "flex": null,
            "_model_name": "LayoutModel",
            "justify_items": null,
            "grid_row": null,
            "max_height": null,
            "align_content": null,
            "visibility": null,
            "align_self": null,
            "height": null,
            "min_height": null,
            "padding": null,
            "grid_auto_rows": null,
            "grid_gap": null,
            "max_width": null,
            "order": null,
            "_view_module_version": "1.2.0",
            "grid_template_areas": null,
            "object_position": null,
            "object_fit": null,
            "grid_auto_columns": null,
            "margin": null,
            "display": null,
            "left": null
          }
        },
        "645e5cb925cc4f309da75df77b82cbae": {
          "model_module": "@jupyter-widgets/controls",
          "model_name": "ProgressStyleModel",
          "model_module_version": "1.5.0",
          "state": {
            "_view_name": "StyleView",
            "_model_name": "ProgressStyleModel",
            "description_width": "",
            "_view_module": "@jupyter-widgets/base",
            "_model_module_version": "1.5.0",
            "_view_count": null,
            "_view_module_version": "1.2.0",
            "bar_color": null,
            "_model_module": "@jupyter-widgets/controls"
          }
        },
        "b5e9be86c1cc4b3dad4c05dcf16b6850": {
          "model_module": "@jupyter-widgets/base",
          "model_name": "LayoutModel",
          "model_module_version": "1.2.0",
          "state": {
            "_view_name": "LayoutView",
            "grid_template_rows": null,
            "right": null,
            "justify_content": null,
            "_view_module": "@jupyter-widgets/base",
            "overflow": null,
            "_model_module_version": "1.2.0",
            "_view_count": null,
            "flex_flow": null,
            "width": null,
            "min_width": null,
            "border": null,
            "align_items": null,
            "bottom": null,
            "_model_module": "@jupyter-widgets/base",
            "top": null,
            "grid_column": null,
            "overflow_y": null,
            "overflow_x": null,
            "grid_auto_flow": null,
            "grid_area": null,
            "grid_template_columns": null,
            "flex": null,
            "_model_name": "LayoutModel",
            "justify_items": null,
            "grid_row": null,
            "max_height": null,
            "align_content": null,
            "visibility": null,
            "align_self": null,
            "height": null,
            "min_height": null,
            "padding": null,
            "grid_auto_rows": null,
            "grid_gap": null,
            "max_width": null,
            "order": null,
            "_view_module_version": "1.2.0",
            "grid_template_areas": null,
            "object_position": null,
            "object_fit": null,
            "grid_auto_columns": null,
            "margin": null,
            "display": null,
            "left": null
          }
        },
        "29cfb7650d5d44d6bc723432c0b928be": {
          "model_module": "@jupyter-widgets/controls",
          "model_name": "DescriptionStyleModel",
          "model_module_version": "1.5.0",
          "state": {
            "_view_name": "StyleView",
            "_model_name": "DescriptionStyleModel",
            "description_width": "",
            "_view_module": "@jupyter-widgets/base",
            "_model_module_version": "1.5.0",
            "_view_count": null,
            "_view_module_version": "1.2.0",
            "_model_module": "@jupyter-widgets/controls"
          }
        },
        "64ce822d1f75410e8b014a37b1dd0ae7": {
          "model_module": "@jupyter-widgets/base",
          "model_name": "LayoutModel",
          "model_module_version": "1.2.0",
          "state": {
            "_view_name": "LayoutView",
            "grid_template_rows": null,
            "right": null,
            "justify_content": null,
            "_view_module": "@jupyter-widgets/base",
            "overflow": null,
            "_model_module_version": "1.2.0",
            "_view_count": null,
            "flex_flow": null,
            "width": null,
            "min_width": null,
            "border": null,
            "align_items": null,
            "bottom": null,
            "_model_module": "@jupyter-widgets/base",
            "top": null,
            "grid_column": null,
            "overflow_y": null,
            "overflow_x": null,
            "grid_auto_flow": null,
            "grid_area": null,
            "grid_template_columns": null,
            "flex": null,
            "_model_name": "LayoutModel",
            "justify_items": null,
            "grid_row": null,
            "max_height": null,
            "align_content": null,
            "visibility": null,
            "align_self": null,
            "height": null,
            "min_height": null,
            "padding": null,
            "grid_auto_rows": null,
            "grid_gap": null,
            "max_width": null,
            "order": null,
            "_view_module_version": "1.2.0",
            "grid_template_areas": null,
            "object_position": null,
            "object_fit": null,
            "grid_auto_columns": null,
            "margin": null,
            "display": null,
            "left": null
          }
        },
        "f84bb536b0d344e5931bd9cf4a832413": {
          "model_module": "@jupyter-widgets/controls",
          "model_name": "HBoxModel",
          "model_module_version": "1.5.0",
          "state": {
            "_view_name": "HBoxView",
            "_dom_classes": [],
            "_model_name": "HBoxModel",
            "_view_module": "@jupyter-widgets/controls",
            "_model_module_version": "1.5.0",
            "_view_count": null,
            "_view_module_version": "1.5.0",
            "box_style": "",
            "layout": "IPY_MODEL_ae9188e3c6f049539a4595a61053f91a",
            "_model_module": "@jupyter-widgets/controls",
            "children": [
              "IPY_MODEL_186cf381862e4e918027da338b5f7e9d",
              "IPY_MODEL_cd079775d8d14688b09a0d67039587f5",
              "IPY_MODEL_223a4eebfd3b44758f41b65c4c1b5d0a"
            ]
          }
        },
        "ae9188e3c6f049539a4595a61053f91a": {
          "model_module": "@jupyter-widgets/base",
          "model_name": "LayoutModel",
          "model_module_version": "1.2.0",
          "state": {
            "_view_name": "LayoutView",
            "grid_template_rows": null,
            "right": null,
            "justify_content": null,
            "_view_module": "@jupyter-widgets/base",
            "overflow": null,
            "_model_module_version": "1.2.0",
            "_view_count": null,
            "flex_flow": null,
            "width": null,
            "min_width": null,
            "border": null,
            "align_items": null,
            "bottom": null,
            "_model_module": "@jupyter-widgets/base",
            "top": null,
            "grid_column": null,
            "overflow_y": null,
            "overflow_x": null,
            "grid_auto_flow": null,
            "grid_area": null,
            "grid_template_columns": null,
            "flex": null,
            "_model_name": "LayoutModel",
            "justify_items": null,
            "grid_row": null,
            "max_height": null,
            "align_content": null,
            "visibility": null,
            "align_self": null,
            "height": null,
            "min_height": null,
            "padding": null,
            "grid_auto_rows": null,
            "grid_gap": null,
            "max_width": null,
            "order": null,
            "_view_module_version": "1.2.0",
            "grid_template_areas": null,
            "object_position": null,
            "object_fit": null,
            "grid_auto_columns": null,
            "margin": null,
            "display": null,
            "left": null
          }
        },
        "186cf381862e4e918027da338b5f7e9d": {
          "model_module": "@jupyter-widgets/controls",
          "model_name": "HTMLModel",
          "model_module_version": "1.5.0",
          "state": {
            "_view_name": "HTMLView",
            "style": "IPY_MODEL_6137367e85ea44f09ac698f688ab1b29",
            "_dom_classes": [],
            "description": "",
            "_model_name": "HTMLModel",
            "placeholder": "​",
            "_view_module": "@jupyter-widgets/controls",
            "_model_module_version": "1.5.0",
            "value": "100%",
            "_view_count": null,
            "_view_module_version": "1.5.0",
            "description_tooltip": null,
            "_model_module": "@jupyter-widgets/controls",
            "layout": "IPY_MODEL_e90dc91e1ce947f3938c9ff99c2d13f1"
          }
        },
        "cd079775d8d14688b09a0d67039587f5": {
          "model_module": "@jupyter-widgets/controls",
          "model_name": "FloatProgressModel",
          "model_module_version": "1.5.0",
          "state": {
            "_view_name": "ProgressView",
            "style": "IPY_MODEL_76f9fafe568d442b86d5ac2de375c7b6",
            "_dom_classes": [],
            "description": "",
            "_model_name": "FloatProgressModel",
            "bar_style": "success",
            "max": 825,
            "_view_module": "@jupyter-widgets/controls",
            "_model_module_version": "1.5.0",
            "value": 825,
            "_view_count": null,
            "_view_module_version": "1.5.0",
            "orientation": "horizontal",
            "min": 0,
            "description_tooltip": null,
            "_model_module": "@jupyter-widgets/controls",
            "layout": "IPY_MODEL_02149829537145c097c9498b8a6c54b9"
          }
        },
        "223a4eebfd3b44758f41b65c4c1b5d0a": {
          "model_module": "@jupyter-widgets/controls",
          "model_name": "HTMLModel",
          "model_module_version": "1.5.0",
          "state": {
            "_view_name": "HTMLView",
            "style": "IPY_MODEL_94b5056b7bea4b328efc60048c3bda78",
            "_dom_classes": [],
            "description": "",
            "_model_name": "HTMLModel",
            "placeholder": "​",
            "_view_module": "@jupyter-widgets/controls",
            "_model_module_version": "1.5.0",
            "value": " 825/825 [00:00&lt;00:00, 13096.34it/s]",
            "_view_count": null,
            "_view_module_version": "1.5.0",
            "description_tooltip": null,
            "_model_module": "@jupyter-widgets/controls",
            "layout": "IPY_MODEL_5a5646483e0a493f88bab4dd8ff07821"
          }
        },
        "6137367e85ea44f09ac698f688ab1b29": {
          "model_module": "@jupyter-widgets/controls",
          "model_name": "DescriptionStyleModel",
          "model_module_version": "1.5.0",
          "state": {
            "_view_name": "StyleView",
            "_model_name": "DescriptionStyleModel",
            "description_width": "",
            "_view_module": "@jupyter-widgets/base",
            "_model_module_version": "1.5.0",
            "_view_count": null,
            "_view_module_version": "1.2.0",
            "_model_module": "@jupyter-widgets/controls"
          }
        },
        "e90dc91e1ce947f3938c9ff99c2d13f1": {
          "model_module": "@jupyter-widgets/base",
          "model_name": "LayoutModel",
          "model_module_version": "1.2.0",
          "state": {
            "_view_name": "LayoutView",
            "grid_template_rows": null,
            "right": null,
            "justify_content": null,
            "_view_module": "@jupyter-widgets/base",
            "overflow": null,
            "_model_module_version": "1.2.0",
            "_view_count": null,
            "flex_flow": null,
            "width": null,
            "min_width": null,
            "border": null,
            "align_items": null,
            "bottom": null,
            "_model_module": "@jupyter-widgets/base",
            "top": null,
            "grid_column": null,
            "overflow_y": null,
            "overflow_x": null,
            "grid_auto_flow": null,
            "grid_area": null,
            "grid_template_columns": null,
            "flex": null,
            "_model_name": "LayoutModel",
            "justify_items": null,
            "grid_row": null,
            "max_height": null,
            "align_content": null,
            "visibility": null,
            "align_self": null,
            "height": null,
            "min_height": null,
            "padding": null,
            "grid_auto_rows": null,
            "grid_gap": null,
            "max_width": null,
            "order": null,
            "_view_module_version": "1.2.0",
            "grid_template_areas": null,
            "object_position": null,
            "object_fit": null,
            "grid_auto_columns": null,
            "margin": null,
            "display": null,
            "left": null
          }
        },
        "76f9fafe568d442b86d5ac2de375c7b6": {
          "model_module": "@jupyter-widgets/controls",
          "model_name": "ProgressStyleModel",
          "model_module_version": "1.5.0",
          "state": {
            "_view_name": "StyleView",
            "_model_name": "ProgressStyleModel",
            "description_width": "",
            "_view_module": "@jupyter-widgets/base",
            "_model_module_version": "1.5.0",
            "_view_count": null,
            "_view_module_version": "1.2.0",
            "bar_color": null,
            "_model_module": "@jupyter-widgets/controls"
          }
        },
        "02149829537145c097c9498b8a6c54b9": {
          "model_module": "@jupyter-widgets/base",
          "model_name": "LayoutModel",
          "model_module_version": "1.2.0",
          "state": {
            "_view_name": "LayoutView",
            "grid_template_rows": null,
            "right": null,
            "justify_content": null,
            "_view_module": "@jupyter-widgets/base",
            "overflow": null,
            "_model_module_version": "1.2.0",
            "_view_count": null,
            "flex_flow": null,
            "width": null,
            "min_width": null,
            "border": null,
            "align_items": null,
            "bottom": null,
            "_model_module": "@jupyter-widgets/base",
            "top": null,
            "grid_column": null,
            "overflow_y": null,
            "overflow_x": null,
            "grid_auto_flow": null,
            "grid_area": null,
            "grid_template_columns": null,
            "flex": null,
            "_model_name": "LayoutModel",
            "justify_items": null,
            "grid_row": null,
            "max_height": null,
            "align_content": null,
            "visibility": null,
            "align_self": null,
            "height": null,
            "min_height": null,
            "padding": null,
            "grid_auto_rows": null,
            "grid_gap": null,
            "max_width": null,
            "order": null,
            "_view_module_version": "1.2.0",
            "grid_template_areas": null,
            "object_position": null,
            "object_fit": null,
            "grid_auto_columns": null,
            "margin": null,
            "display": null,
            "left": null
          }
        },
        "94b5056b7bea4b328efc60048c3bda78": {
          "model_module": "@jupyter-widgets/controls",
          "model_name": "DescriptionStyleModel",
          "model_module_version": "1.5.0",
          "state": {
            "_view_name": "StyleView",
            "_model_name": "DescriptionStyleModel",
            "description_width": "",
            "_view_module": "@jupyter-widgets/base",
            "_model_module_version": "1.5.0",
            "_view_count": null,
            "_view_module_version": "1.2.0",
            "_model_module": "@jupyter-widgets/controls"
          }
        },
        "5a5646483e0a493f88bab4dd8ff07821": {
          "model_module": "@jupyter-widgets/base",
          "model_name": "LayoutModel",
          "model_module_version": "1.2.0",
          "state": {
            "_view_name": "LayoutView",
            "grid_template_rows": null,
            "right": null,
            "justify_content": null,
            "_view_module": "@jupyter-widgets/base",
            "overflow": null,
            "_model_module_version": "1.2.0",
            "_view_count": null,
            "flex_flow": null,
            "width": null,
            "min_width": null,
            "border": null,
            "align_items": null,
            "bottom": null,
            "_model_module": "@jupyter-widgets/base",
            "top": null,
            "grid_column": null,
            "overflow_y": null,
            "overflow_x": null,
            "grid_auto_flow": null,
            "grid_area": null,
            "grid_template_columns": null,
            "flex": null,
            "_model_name": "LayoutModel",
            "justify_items": null,
            "grid_row": null,
            "max_height": null,
            "align_content": null,
            "visibility": null,
            "align_self": null,
            "height": null,
            "min_height": null,
            "padding": null,
            "grid_auto_rows": null,
            "grid_gap": null,
            "max_width": null,
            "order": null,
            "_view_module_version": "1.2.0",
            "grid_template_areas": null,
            "object_position": null,
            "object_fit": null,
            "grid_auto_columns": null,
            "margin": null,
            "display": null,
            "left": null
          }
        },
        "1318e09453334c8a929c4ca45c63b3e7": {
          "model_module": "@jupyter-widgets/controls",
          "model_name": "HBoxModel",
          "model_module_version": "1.5.0",
          "state": {
            "_view_name": "HBoxView",
            "_dom_classes": [],
            "_model_name": "HBoxModel",
            "_view_module": "@jupyter-widgets/controls",
            "_model_module_version": "1.5.0",
            "_view_count": null,
            "_view_module_version": "1.5.0",
            "box_style": "",
            "layout": "IPY_MODEL_84dd82fd8e174e51a15dccf6e895de1e",
            "_model_module": "@jupyter-widgets/controls",
            "children": [
              "IPY_MODEL_a182cf27514d4fd8a670e6020f8d95b5",
              "IPY_MODEL_e91583b64361403aacb720716c630561",
              "IPY_MODEL_68ec5eb471044a3c8ae19b9894266716"
            ]
          }
        },
        "84dd82fd8e174e51a15dccf6e895de1e": {
          "model_module": "@jupyter-widgets/base",
          "model_name": "LayoutModel",
          "model_module_version": "1.2.0",
          "state": {
            "_view_name": "LayoutView",
            "grid_template_rows": null,
            "right": null,
            "justify_content": null,
            "_view_module": "@jupyter-widgets/base",
            "overflow": null,
            "_model_module_version": "1.2.0",
            "_view_count": null,
            "flex_flow": null,
            "width": null,
            "min_width": null,
            "border": null,
            "align_items": null,
            "bottom": null,
            "_model_module": "@jupyter-widgets/base",
            "top": null,
            "grid_column": null,
            "overflow_y": null,
            "overflow_x": null,
            "grid_auto_flow": null,
            "grid_area": null,
            "grid_template_columns": null,
            "flex": null,
            "_model_name": "LayoutModel",
            "justify_items": null,
            "grid_row": null,
            "max_height": null,
            "align_content": null,
            "visibility": null,
            "align_self": null,
            "height": null,
            "min_height": null,
            "padding": null,
            "grid_auto_rows": null,
            "grid_gap": null,
            "max_width": null,
            "order": null,
            "_view_module_version": "1.2.0",
            "grid_template_areas": null,
            "object_position": null,
            "object_fit": null,
            "grid_auto_columns": null,
            "margin": null,
            "display": null,
            "left": null
          }
        },
        "a182cf27514d4fd8a670e6020f8d95b5": {
          "model_module": "@jupyter-widgets/controls",
          "model_name": "HTMLModel",
          "model_module_version": "1.5.0",
          "state": {
            "_view_name": "HTMLView",
            "style": "IPY_MODEL_91857ed58dcf487da245ec88870a51c7",
            "_dom_classes": [],
            "description": "",
            "_model_name": "HTMLModel",
            "placeholder": "​",
            "_view_module": "@jupyter-widgets/controls",
            "_model_module_version": "1.5.0",
            "value": "100%",
            "_view_count": null,
            "_view_module_version": "1.5.0",
            "description_tooltip": null,
            "_model_module": "@jupyter-widgets/controls",
            "layout": "IPY_MODEL_de67a5fa22ec4119b7b5681df334d1a9"
          }
        },
        "e91583b64361403aacb720716c630561": {
          "model_module": "@jupyter-widgets/controls",
          "model_name": "FloatProgressModel",
          "model_module_version": "1.5.0",
          "state": {
            "_view_name": "ProgressView",
            "style": "IPY_MODEL_d58e063ec72e4ece974f37c0727e21bf",
            "_dom_classes": [],
            "description": "",
            "_model_name": "FloatProgressModel",
            "bar_style": "success",
            "max": 984,
            "_view_module": "@jupyter-widgets/controls",
            "_model_module_version": "1.5.0",
            "value": 984,
            "_view_count": null,
            "_view_module_version": "1.5.0",
            "orientation": "horizontal",
            "min": 0,
            "description_tooltip": null,
            "_model_module": "@jupyter-widgets/controls",
            "layout": "IPY_MODEL_b8a58d3792da449d844e47efa6c66b83"
          }
        },
        "68ec5eb471044a3c8ae19b9894266716": {
          "model_module": "@jupyter-widgets/controls",
          "model_name": "HTMLModel",
          "model_module_version": "1.5.0",
          "state": {
            "_view_name": "HTMLView",
            "style": "IPY_MODEL_9058e76228a847abbb0be2920131d3ed",
            "_dom_classes": [],
            "description": "",
            "_model_name": "HTMLModel",
            "placeholder": "​",
            "_view_module": "@jupyter-widgets/controls",
            "_model_module_version": "1.5.0",
            "value": " 984/984 [00:00&lt;00:00, 7836.55it/s]",
            "_view_count": null,
            "_view_module_version": "1.5.0",
            "description_tooltip": null,
            "_model_module": "@jupyter-widgets/controls",
            "layout": "IPY_MODEL_ce56fdcbedc34d46aa7fe68378ee8738"
          }
        },
        "91857ed58dcf487da245ec88870a51c7": {
          "model_module": "@jupyter-widgets/controls",
          "model_name": "DescriptionStyleModel",
          "model_module_version": "1.5.0",
          "state": {
            "_view_name": "StyleView",
            "_model_name": "DescriptionStyleModel",
            "description_width": "",
            "_view_module": "@jupyter-widgets/base",
            "_model_module_version": "1.5.0",
            "_view_count": null,
            "_view_module_version": "1.2.0",
            "_model_module": "@jupyter-widgets/controls"
          }
        },
        "de67a5fa22ec4119b7b5681df334d1a9": {
          "model_module": "@jupyter-widgets/base",
          "model_name": "LayoutModel",
          "model_module_version": "1.2.0",
          "state": {
            "_view_name": "LayoutView",
            "grid_template_rows": null,
            "right": null,
            "justify_content": null,
            "_view_module": "@jupyter-widgets/base",
            "overflow": null,
            "_model_module_version": "1.2.0",
            "_view_count": null,
            "flex_flow": null,
            "width": null,
            "min_width": null,
            "border": null,
            "align_items": null,
            "bottom": null,
            "_model_module": "@jupyter-widgets/base",
            "top": null,
            "grid_column": null,
            "overflow_y": null,
            "overflow_x": null,
            "grid_auto_flow": null,
            "grid_area": null,
            "grid_template_columns": null,
            "flex": null,
            "_model_name": "LayoutModel",
            "justify_items": null,
            "grid_row": null,
            "max_height": null,
            "align_content": null,
            "visibility": null,
            "align_self": null,
            "height": null,
            "min_height": null,
            "padding": null,
            "grid_auto_rows": null,
            "grid_gap": null,
            "max_width": null,
            "order": null,
            "_view_module_version": "1.2.0",
            "grid_template_areas": null,
            "object_position": null,
            "object_fit": null,
            "grid_auto_columns": null,
            "margin": null,
            "display": null,
            "left": null
          }
        },
        "d58e063ec72e4ece974f37c0727e21bf": {
          "model_module": "@jupyter-widgets/controls",
          "model_name": "ProgressStyleModel",
          "model_module_version": "1.5.0",
          "state": {
            "_view_name": "StyleView",
            "_model_name": "ProgressStyleModel",
            "description_width": "",
            "_view_module": "@jupyter-widgets/base",
            "_model_module_version": "1.5.0",
            "_view_count": null,
            "_view_module_version": "1.2.0",
            "bar_color": null,
            "_model_module": "@jupyter-widgets/controls"
          }
        },
        "b8a58d3792da449d844e47efa6c66b83": {
          "model_module": "@jupyter-widgets/base",
          "model_name": "LayoutModel",
          "model_module_version": "1.2.0",
          "state": {
            "_view_name": "LayoutView",
            "grid_template_rows": null,
            "right": null,
            "justify_content": null,
            "_view_module": "@jupyter-widgets/base",
            "overflow": null,
            "_model_module_version": "1.2.0",
            "_view_count": null,
            "flex_flow": null,
            "width": null,
            "min_width": null,
            "border": null,
            "align_items": null,
            "bottom": null,
            "_model_module": "@jupyter-widgets/base",
            "top": null,
            "grid_column": null,
            "overflow_y": null,
            "overflow_x": null,
            "grid_auto_flow": null,
            "grid_area": null,
            "grid_template_columns": null,
            "flex": null,
            "_model_name": "LayoutModel",
            "justify_items": null,
            "grid_row": null,
            "max_height": null,
            "align_content": null,
            "visibility": null,
            "align_self": null,
            "height": null,
            "min_height": null,
            "padding": null,
            "grid_auto_rows": null,
            "grid_gap": null,
            "max_width": null,
            "order": null,
            "_view_module_version": "1.2.0",
            "grid_template_areas": null,
            "object_position": null,
            "object_fit": null,
            "grid_auto_columns": null,
            "margin": null,
            "display": null,
            "left": null
          }
        },
        "9058e76228a847abbb0be2920131d3ed": {
          "model_module": "@jupyter-widgets/controls",
          "model_name": "DescriptionStyleModel",
          "model_module_version": "1.5.0",
          "state": {
            "_view_name": "StyleView",
            "_model_name": "DescriptionStyleModel",
            "description_width": "",
            "_view_module": "@jupyter-widgets/base",
            "_model_module_version": "1.5.0",
            "_view_count": null,
            "_view_module_version": "1.2.0",
            "_model_module": "@jupyter-widgets/controls"
          }
        },
        "ce56fdcbedc34d46aa7fe68378ee8738": {
          "model_module": "@jupyter-widgets/base",
          "model_name": "LayoutModel",
          "model_module_version": "1.2.0",
          "state": {
            "_view_name": "LayoutView",
            "grid_template_rows": null,
            "right": null,
            "justify_content": null,
            "_view_module": "@jupyter-widgets/base",
            "overflow": null,
            "_model_module_version": "1.2.0",
            "_view_count": null,
            "flex_flow": null,
            "width": null,
            "min_width": null,
            "border": null,
            "align_items": null,
            "bottom": null,
            "_model_module": "@jupyter-widgets/base",
            "top": null,
            "grid_column": null,
            "overflow_y": null,
            "overflow_x": null,
            "grid_auto_flow": null,
            "grid_area": null,
            "grid_template_columns": null,
            "flex": null,
            "_model_name": "LayoutModel",
            "justify_items": null,
            "grid_row": null,
            "max_height": null,
            "align_content": null,
            "visibility": null,
            "align_self": null,
            "height": null,
            "min_height": null,
            "padding": null,
            "grid_auto_rows": null,
            "grid_gap": null,
            "max_width": null,
            "order": null,
            "_view_module_version": "1.2.0",
            "grid_template_areas": null,
            "object_position": null,
            "object_fit": null,
            "grid_auto_columns": null,
            "margin": null,
            "display": null,
            "left": null
          }
        }
      }
    }
  },
  "cells": [
    {
      "cell_type": "markdown",
      "metadata": {
        "id": "PxsnuQoYp-e_"
      },
      "source": [
        "# Data Analytics on Stackoverflow Data"
      ]
    },
    {
      "cell_type": "markdown",
      "metadata": {
        "id": "dtqx7lwPrEqo"
      },
      "source": [
        "## Backend"
      ]
    },
    {
      "cell_type": "markdown",
      "metadata": {
        "id": "pOoqs30PqCuE"
      },
      "source": [
        "### Install and import dependencies"
      ]
    },
    {
      "cell_type": "code",
      "metadata": {
        "colab": {
          "base_uri": "https://localhost:8080/"
        },
        "id": "n_ymdCSap5ef",
        "outputId": "7b025ceb-9bfa-483e-e37b-11506c86e885"
      },
      "source": [
        "!pip install requests-html requests pandas"
      ],
      "execution_count": 1,
      "outputs": [
        {
          "output_type": "stream",
          "name": "stdout",
          "text": [
            "Collecting requests-html\n",
            "  Downloading requests_html-0.10.0-py3-none-any.whl (13 kB)\n",
            "Requirement already satisfied: requests in /usr/local/lib/python3.7/dist-packages (2.23.0)\n",
            "Requirement already satisfied: pandas in /usr/local/lib/python3.7/dist-packages (1.1.5)\n",
            "Collecting fake-useragent\n",
            "  Downloading fake-useragent-0.1.11.tar.gz (13 kB)\n",
            "Requirement already satisfied: bs4 in /usr/local/lib/python3.7/dist-packages (from requests-html) (0.0.1)\n",
            "Collecting w3lib\n",
            "  Downloading w3lib-1.22.0-py2.py3-none-any.whl (20 kB)\n",
            "Collecting pyppeteer>=0.0.14\n",
            "  Downloading pyppeteer-0.2.6-py3-none-any.whl (83 kB)\n",
            "\u001b[K     |████████████████████████████████| 83 kB 2.2 MB/s \n",
            "\u001b[?25hCollecting parse\n",
            "  Downloading parse-1.19.0.tar.gz (30 kB)\n",
            "Collecting pyquery\n",
            "  Downloading pyquery-1.4.3-py3-none-any.whl (22 kB)\n",
            "Requirement already satisfied: importlib-metadata>=1.4 in /usr/local/lib/python3.7/dist-packages (from pyppeteer>=0.0.14->requests-html) (4.8.2)\n",
            "Collecting pyee<9.0.0,>=8.1.0\n",
            "  Downloading pyee-8.2.2-py2.py3-none-any.whl (12 kB)\n",
            "Requirement already satisfied: tqdm<5.0.0,>=4.42.1 in /usr/local/lib/python3.7/dist-packages (from pyppeteer>=0.0.14->requests-html) (4.62.3)\n",
            "Collecting websockets<10.0,>=9.1\n",
            "  Downloading websockets-9.1-cp37-cp37m-manylinux2010_x86_64.whl (103 kB)\n",
            "\u001b[K     |████████████████████████████████| 103 kB 43.5 MB/s \n",
            "\u001b[?25hCollecting urllib3<2.0.0,>=1.25.8\n",
            "  Downloading urllib3-1.26.7-py2.py3-none-any.whl (138 kB)\n",
            "\u001b[K     |████████████████████████████████| 138 kB 45.9 MB/s \n",
            "\u001b[?25hRequirement already satisfied: appdirs<2.0.0,>=1.4.3 in /usr/local/lib/python3.7/dist-packages (from pyppeteer>=0.0.14->requests-html) (1.4.4)\n",
            "Requirement already satisfied: zipp>=0.5 in /usr/local/lib/python3.7/dist-packages (from importlib-metadata>=1.4->pyppeteer>=0.0.14->requests-html) (3.6.0)\n",
            "Requirement already satisfied: typing-extensions>=3.6.4 in /usr/local/lib/python3.7/dist-packages (from importlib-metadata>=1.4->pyppeteer>=0.0.14->requests-html) (3.10.0.2)\n",
            "  Downloading urllib3-1.25.11-py2.py3-none-any.whl (127 kB)\n",
            "\u001b[K     |████████████████████████████████| 127 kB 50.2 MB/s \n",
            "\u001b[?25hRequirement already satisfied: chardet<4,>=3.0.2 in /usr/local/lib/python3.7/dist-packages (from requests) (3.0.4)\n",
            "Requirement already satisfied: idna<3,>=2.5 in /usr/local/lib/python3.7/dist-packages (from requests) (2.10)\n",
            "Requirement already satisfied: certifi>=2017.4.17 in /usr/local/lib/python3.7/dist-packages (from requests) (2021.10.8)\n",
            "Requirement already satisfied: numpy>=1.15.4 in /usr/local/lib/python3.7/dist-packages (from pandas) (1.19.5)\n",
            "Requirement already satisfied: python-dateutil>=2.7.3 in /usr/local/lib/python3.7/dist-packages (from pandas) (2.8.2)\n",
            "Requirement already satisfied: pytz>=2017.2 in /usr/local/lib/python3.7/dist-packages (from pandas) (2018.9)\n",
            "Requirement already satisfied: six>=1.5 in /usr/local/lib/python3.7/dist-packages (from python-dateutil>=2.7.3->pandas) (1.15.0)\n",
            "Requirement already satisfied: beautifulsoup4 in /usr/local/lib/python3.7/dist-packages (from bs4->requests-html) (4.6.3)\n",
            "Collecting cssselect>0.7.9\n",
            "  Downloading cssselect-1.1.0-py2.py3-none-any.whl (16 kB)\n",
            "Requirement already satisfied: lxml>=2.1 in /usr/local/lib/python3.7/dist-packages (from pyquery->requests-html) (4.2.6)\n",
            "Building wheels for collected packages: fake-useragent, parse\n",
            "  Building wheel for fake-useragent (setup.py) ... \u001b[?25l\u001b[?25hdone\n",
            "  Created wheel for fake-useragent: filename=fake_useragent-0.1.11-py3-none-any.whl size=13502 sha256=01ca194e7763fc68b135ba9a7c6563679892f2236d9583ed33f6ff5a998c15bb\n",
            "  Stored in directory: /root/.cache/pip/wheels/ed/f7/62/50ab6c9a0b5567267ab76a9daa9d06315704209b2c5d032031\n",
            "  Building wheel for parse (setup.py) ... \u001b[?25l\u001b[?25hdone\n",
            "  Created wheel for parse: filename=parse-1.19.0-py3-none-any.whl size=24591 sha256=eff19816e49d6ab7ef451239b6d69ae39ebea53c1838754e37ae2ffe54095316\n",
            "  Stored in directory: /root/.cache/pip/wheels/9c/aa/cc/f2228050ccb40f22144b073f15a2c84f11204f29fc0dce028e\n",
            "Successfully built fake-useragent parse\n",
            "Installing collected packages: websockets, urllib3, pyee, cssselect, w3lib, pyquery, pyppeteer, parse, fake-useragent, requests-html\n",
            "  Attempting uninstall: urllib3\n",
            "    Found existing installation: urllib3 1.24.3\n",
            "    Uninstalling urllib3-1.24.3:\n",
            "      Successfully uninstalled urllib3-1.24.3\n",
            "\u001b[31mERROR: pip's dependency resolver does not currently take into account all the packages that are installed. This behaviour is the source of the following dependency conflicts.\n",
            "datascience 0.10.6 requires folium==0.2.1, but you have folium 0.8.3 which is incompatible.\u001b[0m\n",
            "Successfully installed cssselect-1.1.0 fake-useragent-0.1.11 parse-1.19.0 pyee-8.2.2 pyppeteer-0.2.6 pyquery-1.4.3 requests-html-0.10.0 urllib3-1.25.11 w3lib-1.22.0 websockets-9.1\n"
          ]
        }
      ]
    },
    {
      "cell_type": "code",
      "metadata": {
        "colab": {
          "base_uri": "https://localhost:8080/"
        },
        "id": "ppSkEd8JqEYn",
        "outputId": "a2f5e730-07b5-4593-aebc-6178bae6f704"
      },
      "source": [
        "!pip install seaborn"
      ],
      "execution_count": 2,
      "outputs": [
        {
          "output_type": "stream",
          "name": "stdout",
          "text": [
            "Requirement already satisfied: seaborn in /usr/local/lib/python3.7/dist-packages (0.11.2)\n",
            "Requirement already satisfied: scipy>=1.0 in /usr/local/lib/python3.7/dist-packages (from seaborn) (1.4.1)\n",
            "Requirement already satisfied: pandas>=0.23 in /usr/local/lib/python3.7/dist-packages (from seaborn) (1.1.5)\n",
            "Requirement already satisfied: matplotlib>=2.2 in /usr/local/lib/python3.7/dist-packages (from seaborn) (3.2.2)\n",
            "Requirement already satisfied: numpy>=1.15 in /usr/local/lib/python3.7/dist-packages (from seaborn) (1.19.5)\n",
            "Requirement already satisfied: cycler>=0.10 in /usr/local/lib/python3.7/dist-packages (from matplotlib>=2.2->seaborn) (0.11.0)\n",
            "Requirement already satisfied: kiwisolver>=1.0.1 in /usr/local/lib/python3.7/dist-packages (from matplotlib>=2.2->seaborn) (1.3.2)\n",
            "Requirement already satisfied: python-dateutil>=2.1 in /usr/local/lib/python3.7/dist-packages (from matplotlib>=2.2->seaborn) (2.8.2)\n",
            "Requirement already satisfied: pyparsing!=2.0.4,!=2.1.2,!=2.1.6,>=2.0.1 in /usr/local/lib/python3.7/dist-packages (from matplotlib>=2.2->seaborn) (3.0.6)\n",
            "Requirement already satisfied: pytz>=2017.2 in /usr/local/lib/python3.7/dist-packages (from pandas>=0.23->seaborn) (2018.9)\n",
            "Requirement already satisfied: six>=1.5 in /usr/local/lib/python3.7/dist-packages (from python-dateutil>=2.1->matplotlib>=2.2->seaborn) (1.15.0)\n"
          ]
        }
      ]
    },
    {
      "cell_type": "code",
      "metadata": {
        "id": "-woraWvkqS7d"
      },
      "source": [
        "import requests\n",
        "from requests_html import HTML\n",
        "import numpy as np\n",
        "import pandas as pd\n",
        "import random\n",
        "import os\n",
        "import time\n",
        "import warnings\n",
        "from tqdm import tqdm_notebook\n",
        "from collections import Counter\n",
        "from gensim.models import Word2Vec\n",
        "from sklearn.decomposition import PCA\n",
        "import matplotlib.pyplot as plt\n",
        "import seaborn as sns\n",
        "%matplotlib inline\n",
        "\n",
        "warnings.filterwarnings(\"ignore\")\n",
        "\n",
        "plt.rcParams['figure.figsize'] = (10.0, 10.0)"
      ],
      "execution_count": 3,
      "outputs": []
    },
    {
      "cell_type": "markdown",
      "metadata": {
        "id": "3vEMBOQJrPZg"
      },
      "source": [
        "### Scraping multiple pages"
      ]
    },
    {
      "cell_type": "markdown",
      "metadata": {
        "id": "zf_FtDU5rSNA"
      },
      "source": [
        "#### Function-1 for data manupulation and cleaning"
      ]
    },
    {
      "cell_type": "code",
      "metadata": {
        "id": "QgXgIyX6qWwY"
      },
      "source": [
        "def clean_scraped_data(text, keyname=None):\n",
        "  if keyname == 'user_name':\n",
        "    return text.split(\"\\n\")[0]\n",
        "  if keyname == 'votes':\n",
        "      if text != '1\\nvote':\n",
        "        return text.replace('\\nvotes', '')\n",
        "      else:\n",
        "        return text.replace('\\nvote', '')\n",
        "  if keyname == 'views':\n",
        "      return text.replace(' views', '')\n",
        "  if keyname == 'num_answers':\n",
        "    if text != '1answer':\n",
        "      return text.replace('answers', '')\n",
        "    else:\n",
        "      return text.replace('answer', '')\n",
        "  return text"
      ],
      "execution_count": 4,
      "outputs": []
    },
    "source": [
        "#### Function-2 for data manupulation and cleaning"
      ]
    {
      "cell_type": "code",
      "metadata": {
        "id": "uOTUtxwWrY-a"
      },
      "source": [
        "def evaluate(text, keyname=None):\n",
        "  if keyname == 'votes' or keyname == 'views' or keyname == 'num_answers':\n",
        "    if text[-1] == 'k':\n",
        "      text = pd.eval(text.replace('k', ' * 10**3',1))\n",
        "    elif text[-1] == 'm':\n",
        "      text = pd.eval(text.replace('m', ' * 10**6',1))\n",
        "  return text"
      ],
      "execution_count": 5,
      "outputs": []
    },
    {
      "cell_type": "markdown",
      "metadata": {
        "id": "pK2ROWagrc0n"
      },
      "source": [
        "#### Function for Parsing the web page"
      ]
    },
    {
      "cell_type": "code",
      "metadata": {
        "id": "_X74x8dJrejn"
      },
      "source": [
        "def parse_tagged_page(html):\n",
        "  question_summaries = html.find(\".question-summary\")\n",
        "  key_names = ['question', 'votes', 'views', 'num_answers', 'tags', 'user_name', 'date']\n",
        "  classes_names = ['.question-hyperlink', '.vote', '.views', '.status', '.tags', '.user-details', '.relativetime']\n",
        "  datas = []\n",
        "  for el in question_summaries:\n",
        "      question_data = {} \n",
        "      for i, _class in enumerate(classes_names):\n",
        "          sub_el = el.find(_class, first=True)\n",
        "          keyname = key_names[i]\n",
        "          question_data[keyname] = clean_scraped_data(sub_el.text, keyname=keyname)\n",
        "          question_data[keyname] = evaluate(question_data[keyname], keyname=keyname)\n",
        "\n",
        "      datas.append(question_data)\n",
        "  return datas"
      ],
      "execution_count": 6,
      "outputs": []
    },
    {
      "cell_type": "markdown",
      "metadata": {
        "id": "fXJ4_PNorlow"
      },
      "source": [
        "#### Function for Extracting the data from url"
      ]
    },
    {
      "cell_type": "code",
      "metadata": {
        "id": "qej52zTsrmr3"
      },
      "source": [
        "def extract_data_from_url(url):\n",
        "  res = requests.get(url)\n",
        "  if res.status_code not in range(200, 299):\n",
        "      print(\"HTML response failure, retrying..\")\n",
        "      return []\n",
        "  html_str = res.text\n",
        "  html = HTML(html=html_str)\n",
        "  datas = parse_tagged_page(html)\n",
        "  return datas"
      ],
      "execution_count": 7,
      "outputs": []
    },
    {
      "cell_type": "markdown",
      "metadata": {
        "id": "P-mjBFjhuUmt"
      },
      "source": [
        "#### Function that estimates the sort query filter"
      ]
    },
    {
      "cell_type": "code",
      "metadata": {
        "id": "NPaQkZEPuTyP"
      },
      "source": [
        "def filter_sort(filter = None):\n",
        "  if filter == '1':\n",
        "    return \"Newest\"\n",
        "  elif filter == '2':\n",
        "    return \"RecentActivity\"\n",
        "  elif filter == '3':\n",
        "    return \"MostVotes\"\n",
        "  elif filter == '4':\n",
        "    return \"MostFrequent\"\n",
        "  elif filter == '5':\n",
        "    return \"BountyEndingSoon\"\n",
        "  else:\n",
        "    return []"
      ],
      "execution_count": 8,
      "outputs": []
    },
    {
      "cell_type": "markdown",
      "metadata": {
        "id": "LQAHkeO3r1gB"
      },
      "source": [
        "#### Main function for Scraping data "
      ]
    },
    {
      "cell_type": "code",
      "metadata": {
        "id": "Lc6mLfKJr38x"
      },
      "source": [
        "def scrape_tag(tag = None, query_filter = None, max_pages=20):\n",
        "  base_url = 'https://stackoverflow.com/questions/tagged/'\n",
        "  datas = []\n",
        "  for p in range(max_pages):\n",
        "      page_num = p + 1\n",
        "      url = f\"{base_url}{tag}?sort={query_filter}&page={page_num}\"\n",
        "      print(url)\n",
        "      datas += extract_data_from_url(url)\n",
        "      time.sleep(1.2)\n",
        "  df = pd.DataFrame(datas)\n",
        "  df['votes'] = df['votes'].astype(int)\n",
        "  df['num_answers'] = df['num_answers'].astype(int)\n",
        "  df['views'] = df['views'].astype(int)\n",
        "  df.to_csv(tag+\"_scraped.csv\", index=False)\n",
        "  return df"
      ],
      "execution_count": 9,
      "outputs": []
    },
    {
      "cell_type": "markdown",
      "metadata": {
        "id": "mVHRrlJTJLlY"
      },
      "source": [
        "### Data Analytics functions"
      ]
    },
    {
      "cell_type": "markdown",
      "metadata": {
        "id": "-N0ig6E-Kz9u"
      },
      "source": [
        "#### Analyse Votes\n",
        "\n"
      ]
    },
    {
      "cell_type": "code",
      "metadata": {
        "id": "_3sQluvIJ0p5"
      },
      "source": [
        "def ip_1(df=None):\n",
        "  print(\"\\nAnalyse Votes\")\n",
        "  sns.boxplot(df['votes'])\n",
        "  plt.show()\n",
        "  df['votes'].value_counts()/len(df)*100\n",
        "  sns.countplot(df['votes'])\n",
        "  plt.show()"
      ],
      "execution_count": 10,
      "outputs": []
    },
    {
      "cell_type": "markdown",
      "metadata": {
        "id": "2sroGM14LdsW"
      },
      "source": [
        "#### Analyse Number of Answers\n"
      ]
    },
    {
      "cell_type": "code",
      "metadata": {
        "id": "6xRojv10J2SJ"
      },
      "source": [
        "def ip_2(df=None):\n",
        "  print(\"\\nAnalyse Number of Answers\")\n",
        "  sns.boxplot(df['num_answers'])\n",
        "  plt.show()\n",
        "  df['num_answers'].value_counts()/len(df)*100\n",
        "  sns.countplot(df['num_answers'])\n",
        "  plt.show()"
      ],
      "execution_count": 11,
      "outputs": []
    },
    {
      "cell_type": "markdown",
      "metadata": {
        "id": "R7lWFXViLgMG"
      },
      "source": [
        "#### Analyse Views\n"
      ]
    },
    {
      "cell_type": "code",
      "metadata": {
        "id": "X8mcWj_SJ3Yi"
      },
      "source": [
        "def ip_3(df=None):\n",
        "  print(\"\\nAnalyse Views\")\n",
        "  sns.boxplot(df['views'])\n",
        "  plt.show()\n",
        "  df['views'].value_counts()/len(df)*100\n",
        "  sns.countplot(df['views'])\n",
        "  plt.show()"
      ],
      "execution_count": 12,
      "outputs": []
    },
    {
      "cell_type": "markdown",
      "metadata": {
        "id": "N6sQBfy-Li-_"
      },
      "source": [
        "#### Are the tags mentioned in questions similar to each other?\n"
      ]
    },
    {
      "cell_type": "code",
      "metadata": {
        "id": "eqNjA4fLJ4oy"
      },
      "source": [
        "def ip_4(df=None):\n",
        "  print(\"\\nAre the tags mentioned in questions similar to each other?\")\n",
        "  tags = []\n",
        "  for tag in list(df['tags']):\n",
        "    tags.append(tag.split(' '))\n",
        "\n",
        "  embedding = Word2Vec(tags, sg=1, size=256, min_count=1)\n",
        "  X = embedding[embedding.wv.vocab]\n",
        "  pca = PCA(n_components=2)\n",
        "  result = pca.fit_transform(X)\n",
        "\n",
        "  fig, ax = plt.subplots()\n",
        "  ax.plot(result[:, 0], result[:, 1], 'o')\n",
        "  ax.set_title('Embeddings - Spread')\n",
        "\n",
        "  fig, ax = plt.subplots()\n",
        "  ax.set_title('Embeddings - Annotated')\n",
        "  ax.scatter(result[:25, 0], result[:25, 1])\n",
        "  for j, txt in enumerate(list(embedding.wv.vocab)[:25]):\n",
        "    ax.annotate(txt, result[j])\n",
        "    \n",
        "  plt.show()\n"
      ],
      "execution_count": 13,
      "outputs": []
    },
    {
      "cell_type": "markdown",
      "metadata": {
        "id": "luGW2N69LlZ3"
      },
      "source": [
        "#### Which tags are popularly used by Stackoverflow community in this domain?"
      ]
    },
    {
      "cell_type": "code",
      "metadata": {
        "id": "4EXD1f3jJLEK"
      },
      "source": [
        "def ip_5(df=None):\n",
        "  print(\"\\nWhich tags are popularly used by Stackoverflow community in this domain?\")\n",
        "  tags_list = list(df['tags'].unique())\n",
        "  all_tags = []\n",
        "  for tag in tqdm_notebook(tags_list):\n",
        "      all_tags += tag.split(' ')\n",
        "\n",
        "  count_tags = Counter(all_tags)\n",
        "  tags_list = pd.DataFrame([list(count_tags.keys()), list(count_tags.values())])\n",
        "  tags_list = tags_list.transpose()\n",
        "  tags_list.columns = ['tags', 'counts']\n",
        "  tags_list = tags_list.sort_values(by='counts', ascending=False)\n",
        "\n",
        "  plt.barh(list(tags_list['tags'])[:25], list(tags_list['counts'])[:25])\n",
        "  plt.ylabel('Tags -->')\n",
        "  plt.xlabel('Count -->')\n",
        "  plt.title('25 Most Popular Tags')\n",
        "  plt.show()"
      ],
      "execution_count": 14,
      "outputs": []
    },
    {
      "cell_type": "markdown",
      "metadata": {
        "id": "OqiwuvwvLtYY"
      },
      "source": [
        "#### How many tags are present per question?\n"
      ]
    },
    {
      "cell_type": "code",
      "metadata": {
        "id": "icjB0LmoJnj6"
      },
      "source": [
        "def ip_6(df=None):\n",
        "    print(\"\\nHow many tags are present per question?\")\n",
        "    tags = list(df['tags'].unique())\n",
        "    num_tags = []\n",
        "\n",
        "    for tag_ in tqdm_notebook(tags):\n",
        "        num_tags.append(len(tag_.split(' ')))\n",
        "\n",
        "    num_tags = Counter(num_tags)\n",
        "\n",
        "    plt.bar(list(num_tags.keys()), list(num_tags.values()))\n",
        "    plt.xlabel('Number of tags -->')\n",
        "    plt.ylabel('Number of questions -->')\n",
        "    plt.title('Number of Tags per question')\n",
        "    plt.show()"
      ],
      "execution_count": 15,
      "outputs": []
    },
    {
      "cell_type": "markdown",
      "metadata": {
        "id": "M3AVBnt8LvLH"
      },
      "source": [
        "#### Are the number of views of question statistically related to number of answers?\n"
      ]
    },
    {
      "cell_type": "code",
      "metadata": {
        "id": "IN_BPsYnJwMT"
      },
      "source": [
        "def ip_7(df=None):\n",
        "  print(\"\\nAre the number of views of question statistically related to number of answers?\")\n",
        "  view_q = df[['views', 'num_answers']].drop_duplicates().reset_index(drop=True)\n",
        "  display(view_q.astype(int).describe())"
      ],
      "execution_count": 16,
      "outputs": []
    },
    {
      "cell_type": "markdown",
      "metadata": {
        "id": "lDsZHAXiLw_v"
      },
      "source": [
        "#### Are the tags related to Views?\n"
      ]
    },
    {
      "cell_type": "code",
      "metadata": {
        "id": "hYiAX4-GJ7-b"
      },
      "source": [
        "def ip_8(df=None):\n",
        "  print(\"\\nAre the tags related to Views?\")\n",
        "  tag_views = df[['tags', 'views']].drop_duplicates().reset_index(drop=True)\n",
        "  tagView = {}\n",
        "  for i in tqdm_notebook(range(len(tag_views['tags']))):\n",
        "      for tag in tag_views['tags'][i].split(' '):\n",
        "          try:\n",
        "              tagView[tag].append(tag_views['views'][i])\n",
        "          except Exception:\n",
        "              tagView[tag] = [tag_views['views'][i]]\n",
        "  tagViewAvg = {}\n",
        "  for key in list(tagView.keys()):\n",
        "      tagViewAvg[key] = np.average(tagView[key])\n",
        "\n",
        "  tagViewAvg = pd.DataFrame([list(tagViewAvg.keys()), list(tagViewAvg.values())])\n",
        "  tagViewAvg = tagViewAvg.transpose()\n",
        "  tagViewAvg.columns = ['tags', 'views']\n",
        "  tagViewAvg = tagViewAvg.sort_values('views')\n",
        "\n",
        "  plt.barh(list(tagViewAvg['tags'])[-25:], list(tagViewAvg['views'])[-25:])\n",
        "  plt.xlabel('Average number of Views -->')\n",
        "  plt.ylabel('Tags -->')\n",
        "  plt.title('25 - Most Popular Tags')\n",
        "  plt.show()\n",
        "\n",
        "  fig, ax = plt.subplots(2, 2)\n",
        "\n",
        "  ax[0][0].plot([0] + tagView['python'])\n",
        "  ax[0][0].set_title('python')\n",
        "\n",
        "  ax[0][1].plot([0] + tagView['c'])\n",
        "  ax[0][1].set_title('c')\n",
        "\n",
        "  ax[1][0].plot([0] + tagView['java'])\n",
        "  ax[1][0].set_title('java')\n",
        "\n",
        "  ax[1][1].plot([0] + tagView['c#'])\n",
        "  ax[1][1].set_title('c#')\n",
        "  plt.show()"
      ],
      "execution_count": 17,
      "outputs": []
    },
    {
      "cell_type": "markdown",
      "metadata": {
        "id": "YDdqOSHkMLkX"
      },
      "source": [
        "#### Analyse Votes, Number of Answers, Views"
      ]
    },
    {
      "cell_type": "code",
      "metadata": {
        "id": "N_rxO9FZJ9JT"
      },
      "source": [
        "def ip_9(df=None):\n",
        "  print(\"\\nAnalyse Votes, Number of Answers, Views\")\n",
        "  print(\"\\nPair plot: \")\n",
        "  sns.pairplot(df)\n",
        "  plt.show()\n",
        "  print(\"\\nCorrelation plot: \")\n",
        "  sns.heatmap(df.corr())\n",
        "  plt.show()"
      ],
      "execution_count": 18,
      "outputs": []
    },
    {
      "cell_type": "markdown",
      "metadata": {
        "id": "3bmjHW_isTrh"
      },
      "source": [
        "## Front end"
      ]
    },
    {
      "cell_type": "code",
      "metadata": {
        "colab": {
          "base_uri": "https://localhost:8080/",
          "height": 1000,
          "referenced_widgets": [
            "45f8d5c45d4142e1b9b6a05434588979",
            "aeee84913d37484ab5265256022c2aaf",
            "44d9a25e88bf491987b43a353baf4529",
            "d7ae98eb54e248f6a923c56d2463d410",
            "7b9ad6867ce44ab7bca4beda87ce6907",
            "af646031f68047799d96a59dc7ccfc5f",
            "962352470d4b45b8a5693c19fddc0e41",
            "645e5cb925cc4f309da75df77b82cbae",
            "b5e9be86c1cc4b3dad4c05dcf16b6850",
            "29cfb7650d5d44d6bc723432c0b928be",
            "64ce822d1f75410e8b014a37b1dd0ae7",
            "f84bb536b0d344e5931bd9cf4a832413",
            "ae9188e3c6f049539a4595a61053f91a",
            "186cf381862e4e918027da338b5f7e9d",
            "cd079775d8d14688b09a0d67039587f5",
            "223a4eebfd3b44758f41b65c4c1b5d0a",
            "6137367e85ea44f09ac698f688ab1b29",
            "e90dc91e1ce947f3938c9ff99c2d13f1",
            "76f9fafe568d442b86d5ac2de375c7b6",
            "02149829537145c097c9498b8a6c54b9",
            "94b5056b7bea4b328efc60048c3bda78",
            "5a5646483e0a493f88bab4dd8ff07821",
            "1318e09453334c8a929c4ca45c63b3e7",
            "84dd82fd8e174e51a15dccf6e895de1e",
            "a182cf27514d4fd8a670e6020f8d95b5",
            "e91583b64361403aacb720716c630561",
            "68ec5eb471044a3c8ae19b9894266716",
            "91857ed58dcf487da245ec88870a51c7",
            "de67a5fa22ec4119b7b5681df334d1a9",
            "d58e063ec72e4ece974f37c0727e21bf",
            "b8a58d3792da449d844e47efa6c66b83",
            "9058e76228a847abbb0be2920131d3ed",
            "ce56fdcbedc34d46aa7fe68378ee8738"
          ]
        },
        "id": "EVxtgxVTsd0j",
        "outputId": "9bb66a56-a59c-442d-8f1d-8e981a8c0dd6"
      },
      "source": [
        "print(\"*********************************************************************** StackOverflow Data Analysis *************************************************************************************************\")\n",
        "\n",
        "TAG = input(\"Hello!\\nOn which domain would you like to perform the analysis?\\n\")\n",
        "filter = input(\"\\nWhich filter would you like to apply?\\n1.Newest\\n2.Recent activity\\n3.Most votes\\n4.Most frequent\\n5.Bounty ending soon\\n\")\n",
        "FILTER = filter_sort(filter)\n",
        "print(\"\\nCollecting data..\")\n",
        "df = scrape_tag(TAG,FILTER)\n",
        "print(\"Data collection successful.\")\n",
        "\n",
        "ip = 0\n",
        "while ip != '10':\n",
        "\n",
        "  ip = input(\"\\n\\n\\nWhich analysis would you like to perform?\"\n",
        "            \"\\n1.Analyse Votes\"\n",
        "            \"\\n2.Analyse Number of Answers\"\n",
        "            \"\\n3.Analyse Views\"\n",
        "            \"\\n4.Are the tags mentioned in questions similar to each other?\"\n",
        "            \"\\n5.Which tags are popularly used by Stackoverflow community in this domain?\"\n",
        "            \"\\n6.How many tags are present per question?\"\n",
        "            \"\\n7.Are the number of views of question statistically related to number of answers?\"\n",
        "            \"\\n8.Are the tags related to Views?\"\n",
        "            \"\\n9.Analyse Votes, Number of Answers, Views\"\n",
        "            \"\\n10.Exit\\n\")\n",
        "  \n",
        "  if ip == '1':\n",
        "    ip_1(df)\n",
        "\n",
        "  elif ip == '2':\n",
        "    ip_2(df)\n",
        "\n",
        "  elif ip == '3':\n",
        "    ip_3(df)\n",
        "  \n",
        "  elif ip == '4':\n",
        "    ip_4(df)\n",
        "\n",
        "  elif ip == '5':\n",
        "    ip_5(df)\n",
        "  \n",
        "  elif ip == '6':\n",
        "    ip_6(df)\n",
        "\n",
        "  elif ip == '7':\n",
        "    ip_7(df)\n",
        "\n",
        "    2\n",
        "  elif ip == '8':\n",
        "    ip_8(df)\n",
        "\n",
        "  elif ip == '9':\n",
        "    ip_9(df)\n"
      ],
      "execution_count": 19,
      "outputs": [
        {
          "output_type": "stream",
          "name": "stdout",
          "text": [
            "*********************************************************************** StackOverflow Data Analysis *************************************************************************************************\n",
            "Hello!\n",
            "On which domain would you like to perform the analysis?\n",
            "machine-learning\n",
            "\n",
            "Which filter would you like to apply?\n",
            "1.Newest\n",
            "2.Recent activity\n",
            "3.Most votes\n",
            "4.Most frequent\n",
            "5.Bounty ending soon\n",
            "4\n",
            "\n",
            "Collecting data..\n",
            "https://stackoverflow.com/questions/tagged/machine-learning?sort=MostFrequent&page=1\n",
            "https://stackoverflow.com/questions/tagged/machine-learning?sort=MostFrequent&page=2\n",
            "https://stackoverflow.com/questions/tagged/machine-learning?sort=MostFrequent&page=3\n",
            "https://stackoverflow.com/questions/tagged/machine-learning?sort=MostFrequent&page=4\n",
            "https://stackoverflow.com/questions/tagged/machine-learning?sort=MostFrequent&page=5\n",
            "https://stackoverflow.com/questions/tagged/machine-learning?sort=MostFrequent&page=6\n",
            "https://stackoverflow.com/questions/tagged/machine-learning?sort=MostFrequent&page=7\n",
            "https://stackoverflow.com/questions/tagged/machine-learning?sort=MostFrequent&page=8\n",
            "https://stackoverflow.com/questions/tagged/machine-learning?sort=MostFrequent&page=9\n",
            "https://stackoverflow.com/questions/tagged/machine-learning?sort=MostFrequent&page=10\n",
            "https://stackoverflow.com/questions/tagged/machine-learning?sort=MostFrequent&page=11\n",
            "https://stackoverflow.com/questions/tagged/machine-learning?sort=MostFrequent&page=12\n",
            "https://stackoverflow.com/questions/tagged/machine-learning?sort=MostFrequent&page=13\n",
            "https://stackoverflow.com/questions/tagged/machine-learning?sort=MostFrequent&page=14\n",
            "https://stackoverflow.com/questions/tagged/machine-learning?sort=MostFrequent&page=15\n",
            "https://stackoverflow.com/questions/tagged/machine-learning?sort=MostFrequent&page=16\n",
            "https://stackoverflow.com/questions/tagged/machine-learning?sort=MostFrequent&page=17\n",
            "https://stackoverflow.com/questions/tagged/machine-learning?sort=MostFrequent&page=18\n",
            "https://stackoverflow.com/questions/tagged/machine-learning?sort=MostFrequent&page=19\n",
            "https://stackoverflow.com/questions/tagged/machine-learning?sort=MostFrequent&page=20\n",
            "Data collection successful.\n",
            "\n",
            "\n",
            "\n",
            "Which analysis would you like to perform?\n",
            "1.Analyse Votes\n",
            "2.Analyse Number of Answers\n",
            "3.Analyse Views\n",
            "4.Are the tags mentioned in questions similar to each other?\n",
            "5.Which tags are popularly used by Stackoverflow community in this domain?\n",
            "6.How many tags are present per question?\n",
            "7.Are the number of views of question statistically related to number of answers?\n",
            "8.Are the tags related to Views?\n",
            "9.Analyse Votes, Number of Answers, Views\n",
            "10.Exit\n",
            "1\n",
            "\n",
            "Analyse Votes\n"
          ]
        },
        {
          "output_type": "display_data",
          "data": {
            "image/png": "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\n",
            "text/plain": [
              "<Figure size 720x720 with 1 Axes>"
            ]
          },
          "metadata": {
            "needs_background": "light"
          }
        },
        {
          "output_type": "display_data",
          "data": {
            "image/png": "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\n",
            "text/plain": [
              "<Figure size 720x720 with 1 Axes>"
            ]
          },
          "metadata": {
            "needs_background": "light"
          }
        },
        {
          "output_type": "stream",
          "name": "stdout",
          "text": [
            "\n",
            "\n",
            "\n",
            "Which analysis would you like to perform?\n",
            "1.Analyse Votes\n",
            "2.Analyse Number of Answers\n",
            "3.Analyse Views\n",
            "4.Are the tags mentioned in questions similar to each other?\n",
            "5.Which tags are popularly used by Stackoverflow community in this domain?\n",
            "6.How many tags are present per question?\n",
            "7.Are the number of views of question statistically related to number of answers?\n",
            "8.Are the tags related to Views?\n",
            "9.Analyse Votes, Number of Answers, Views\n",
            "10.Exit\n",
            "2\n",
            "\n",
            "Analyse Number of Answers\n"
          ]
        },
        {
          "output_type": "display_data",
          "data": {
            "image/png": "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\n",
            "text/plain": [
              "<Figure size 720x720 with 1 Axes>"
            ]
          },
          "metadata": {
            "needs_background": "light"
          }
        },
        {
          "output_type": "display_data",
          "data": {
            "image/png": "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\n",
            "text/plain": [
              "<Figure size 720x720 with 1 Axes>"
            ]
          },
          "metadata": {
            "needs_background": "light"
          }
        },
        {
          "output_type": "stream",
          "name": "stdout",
          "text": [
            "\n",
            "\n",
            "\n",
            "Which analysis would you like to perform?\n",
            "1.Analyse Votes\n",
            "2.Analyse Number of Answers\n",
            "3.Analyse Views\n",
            "4.Are the tags mentioned in questions similar to each other?\n",
            "5.Which tags are popularly used by Stackoverflow community in this domain?\n",
            "6.How many tags are present per question?\n",
            "7.Are the number of views of question statistically related to number of answers?\n",
            "8.Are the tags related to Views?\n",
            "9.Analyse Votes, Number of Answers, Views\n",
            "10.Exit\n",
            "3\n",
            "\n",
            "Analyse Views\n"
          ]
        },
        {
          "output_type": "display_data",
          "data": {
            "image/png": "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\n",
            "text/plain": [
              "<Figure size 720x720 with 1 Axes>"
            ]
          },
          "metadata": {
            "needs_background": "light"
          }
        },
        {
          "output_type": "display_data",
          "data": {
            "image/png": "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\n",
            "text/plain": [
              "<Figure size 720x720 with 1 Axes>"
            ]
          },
          "metadata": {
            "needs_background": "light"
          }
        },
        {
          "output_type": "stream",
          "name": "stdout",
          "text": [
            "\n",
            "\n",
            "\n",
            "Which analysis would you like to perform?\n",
            "1.Analyse Votes\n",
            "2.Analyse Number of Answers\n",
            "3.Analyse Views\n",
            "4.Are the tags mentioned in questions similar to each other?\n",
            "5.Which tags are popularly used by Stackoverflow community in this domain?\n",
            "6.How many tags are present per question?\n",
            "7.Are the number of views of question statistically related to number of answers?\n",
            "8.Are the tags related to Views?\n",
            "9.Analyse Votes, Number of Answers, Views\n",
            "10.Exit\n",
            "4\n",
            "\n",
            "Are the tags mentioned in questions similar to each other?\n"
          ]
        },
        {
          "output_type": "display_data",
          "data": {
            "image/png": "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\n",
            "text/plain": [
              "<Figure size 720x720 with 1 Axes>"
            ]
          },
          "metadata": {
            "needs_background": "light"
          }
        },
        {
          "output_type": "display_data",
          "data": {
            "image/png": "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\n",
            "text/plain": [
              "<Figure size 720x720 with 1 Axes>"
            ]
          },
          "metadata": {
            "needs_background": "light"
          }
        },
        {
          "output_type": "stream",
          "name": "stdout",
          "text": [
            "\n",
            "\n",
            "\n",
            "Which analysis would you like to perform?\n",
            "1.Analyse Votes\n",
            "2.Analyse Number of Answers\n",
            "3.Analyse Views\n",
            "4.Are the tags mentioned in questions similar to each other?\n",
            "5.Which tags are popularly used by Stackoverflow community in this domain?\n",
            "6.How many tags are present per question?\n",
            "7.Are the number of views of question statistically related to number of answers?\n",
            "8.Are the tags related to Views?\n",
            "9.Analyse Votes, Number of Answers, Views\n",
            "10.Exit\n",
            "5\n",
            "\n",
            "Which tags are popularly used by Stackoverflow community in this domain?\n"
          ]
        },
        {
          "output_type": "display_data",
          "data": {
            "application/vnd.jupyter.widget-view+json": {
              "model_id": "45f8d5c45d4142e1b9b6a05434588979",
              "version_minor": 0,
              "version_major": 2
            },
            "text/plain": [
              "  0%|          | 0/825 [00:00<?, ?it/s]"
            ]
          },
          "metadata": {}
        },
        {
          "output_type": "display_data",
          "data": {
            "image/png": "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\n",
            "text/plain": [
              "<Figure size 720x720 with 1 Axes>"
            ]
          },
          "metadata": {
            "needs_background": "light"
          }
        },
        {
          "output_type": "stream",
          "name": "stdout",
          "text": [
            "\n",
            "\n",
            "\n",
            "Which analysis would you like to perform?\n",
            "1.Analyse Votes\n",
            "2.Analyse Number of Answers\n",
            "3.Analyse Views\n",
            "4.Are the tags mentioned in questions similar to each other?\n",
            "5.Which tags are popularly used by Stackoverflow community in this domain?\n",
            "6.How many tags are present per question?\n",
            "7.Are the number of views of question statistically related to number of answers?\n",
            "8.Are the tags related to Views?\n",
            "9.Analyse Votes, Number of Answers, Views\n",
            "10.Exit\n",
            "6\n",
            "\n",
            "How many tags are present per question?\n"
          ]
        },
        {
          "output_type": "display_data",
          "data": {
            "application/vnd.jupyter.widget-view+json": {
              "model_id": "f84bb536b0d344e5931bd9cf4a832413",
              "version_minor": 0,
              "version_major": 2
            },
            "text/plain": [
              "  0%|          | 0/825 [00:00<?, ?it/s]"
            ]
          },
          "metadata": {}
        },
        {
          "output_type": "display_data",
          "data": {
            "image/png": "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\n",
            "text/plain": [
              "<Figure size 720x720 with 1 Axes>"
            ]
          },
          "metadata": {
            "needs_background": "light"
          }
        },
        {
          "output_type": "stream",
          "name": "stdout",
          "text": [
            "\n",
            "\n",
            "\n",
            "Which analysis would you like to perform?\n",
            "1.Analyse Votes\n",
            "2.Analyse Number of Answers\n",
            "3.Analyse Views\n",
            "4.Are the tags mentioned in questions similar to each other?\n",
            "5.Which tags are popularly used by Stackoverflow community in this domain?\n",
            "6.How many tags are present per question?\n",
            "7.Are the number of views of question statistically related to number of answers?\n",
            "8.Are the tags related to Views?\n",
            "9.Analyse Votes, Number of Answers, Views\n",
            "10.Exit\n",
            "7\n",
            "\n",
            "Are the number of views of question statistically related to number of answers?\n"
          ]
        },
        {
          "output_type": "display_data",
          "data": {
            "text/html": [
              "<div>\n",
              "<style scoped>\n",
              "    .dataframe tbody tr th:only-of-type {\n",
              "        vertical-align: middle;\n",
              "    }\n",
              "\n",
              "    .dataframe tbody tr th {\n",
              "        vertical-align: top;\n",
              "    }\n",
              "\n",
              "    .dataframe thead th {\n",
              "        text-align: right;\n",
              "    }\n",
              "</style>\n",
              "<table border=\"1\" class=\"dataframe\">\n",
              "  <thead>\n",
              "    <tr style=\"text-align: right;\">\n",
              "      <th></th>\n",
              "      <th>views</th>\n",
              "      <th>num_answers</th>\n",
              "    </tr>\n",
              "  </thead>\n",
              "  <tbody>\n",
              "    <tr>\n",
              "      <th>count</th>\n",
              "      <td>440.000000</td>\n",
              "      <td>440.000000</td>\n",
              "    </tr>\n",
              "    <tr>\n",
              "      <th>mean</th>\n",
              "      <td>48520.620455</td>\n",
              "      <td>4.777273</td>\n",
              "    </tr>\n",
              "    <tr>\n",
              "      <th>std</th>\n",
              "      <td>60056.214939</td>\n",
              "      <td>4.114028</td>\n",
              "    </tr>\n",
              "    <tr>\n",
              "      <th>min</th>\n",
              "      <td>42.000000</td>\n",
              "      <td>0.000000</td>\n",
              "    </tr>\n",
              "    <tr>\n",
              "      <th>25%</th>\n",
              "      <td>10000.000000</td>\n",
              "      <td>2.000000</td>\n",
              "    </tr>\n",
              "    <tr>\n",
              "      <th>50%</th>\n",
              "      <td>30000.000000</td>\n",
              "      <td>4.000000</td>\n",
              "    </tr>\n",
              "    <tr>\n",
              "      <th>75%</th>\n",
              "      <td>60000.000000</td>\n",
              "      <td>6.000000</td>\n",
              "    </tr>\n",
              "    <tr>\n",
              "      <th>max</th>\n",
              "      <td>386000.000000</td>\n",
              "      <td>28.000000</td>\n",
              "    </tr>\n",
              "  </tbody>\n",
              "</table>\n",
              "</div>"
            ],
            "text/plain": [
              "               views  num_answers\n",
              "count     440.000000   440.000000\n",
              "mean    48520.620455     4.777273\n",
              "std     60056.214939     4.114028\n",
              "min        42.000000     0.000000\n",
              "25%     10000.000000     2.000000\n",
              "50%     30000.000000     4.000000\n",
              "75%     60000.000000     6.000000\n",
              "max    386000.000000    28.000000"
            ]
          },
          "metadata": {}
        },
        {
          "output_type": "stream",
          "name": "stdout",
          "text": [
            "\n",
            "\n",
            "\n",
            "Which analysis would you like to perform?\n",
            "1.Analyse Votes\n",
            "2.Analyse Number of Answers\n",
            "3.Analyse Views\n",
            "4.Are the tags mentioned in questions similar to each other?\n",
            "5.Which tags are popularly used by Stackoverflow community in this domain?\n",
            "6.How many tags are present per question?\n",
            "7.Are the number of views of question statistically related to number of answers?\n",
            "8.Are the tags related to Views?\n",
            "9.Analyse Votes, Number of Answers, Views\n",
            "10.Exit\n",
            "8\n",
            "\n",
            "Are the tags related to Views?\n"
          ]
        },
        {
          "output_type": "display_data",
          "data": {
            "application/vnd.jupyter.widget-view+json": {
              "model_id": "1318e09453334c8a929c4ca45c63b3e7",
              "version_minor": 0,
              "version_major": 2
            },
            "text/plain": [
              "  0%|          | 0/984 [00:00<?, ?it/s]"
            ]
          },
          "metadata": {}
        },
        {
          "output_type": "display_data",
          "data": {
            "image/png": "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\n",
            "text/plain": [
              "<Figure size 720x720 with 1 Axes>"
            ]
          },
          "metadata": {
            "needs_background": "light"
          }
        },
        {
          "output_type": "display_data",
          "data": {
            "image/png": "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\n",
            "text/plain": [
              "<Figure size 720x720 with 4 Axes>"
            ]
          },
          "metadata": {
            "needs_background": "light"
          }
        },
        {
          "output_type": "stream",
          "name": "stdout",
          "text": [
            "\n",
            "\n",
            "\n",
            "Which analysis would you like to perform?\n",
            "1.Analyse Votes\n",
            "2.Analyse Number of Answers\n",
            "3.Analyse Views\n",
            "4.Are the tags mentioned in questions similar to each other?\n",
            "5.Which tags are popularly used by Stackoverflow community in this domain?\n",
            "6.How many tags are present per question?\n",
            "7.Are the number of views of question statistically related to number of answers?\n",
            "8.Are the tags related to Views?\n",
            "9.Analyse Votes, Number of Answers, Views\n",
            "10.Exit\n",
            "9\n",
            "\n",
            "Analyse Votes, Number of Answers, Views\n",
            "\n",
            "Pair plot: \n"
          ]
        },
        {
          "output_type": "display_data",
          "data": {
            "image/png": "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\n",
            "text/plain": [
              "<Figure size 540x540 with 12 Axes>"
            ]
          },
          "metadata": {
            "needs_background": "light"
          }
        },
        {
          "output_type": "stream",
          "name": "stdout",
          "text": [
            "\n",
            "Correlation plot: \n"
          ]
        },
        {
          "output_type": "display_data",
          "data": {
            "image/png": "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\n",
            "text/plain": [
              "<Figure size 720x720 with 2 Axes>"
            ]
          },
          "metadata": {
            "needs_background": "light"
          }
        },
        {
          "name": "stdout",
          "output_type": "stream",
          "text": [
            "\n",
            "\n",
            "\n",
            "Which analysis would you like to perform?\n",
            "1.Analyse Votes\n",
            "2.Analyse Number of Answers\n",
            "3.Analyse Views\n",
            "4.Are the tags mentioned in questions similar to each other?\n",
            "5.Which tags are popularly used by Stackoverflow community in this domain?\n",
            "6.How many tags are present per question?\n",
            "7.Are the number of views of question statistically related to number of answers?\n",
            "8.Are the tags related to Views?\n",
            "9.Analyse Votes, Number of Answers, Views\n",
            "10.Exit\n",
            "10\n"
          ]
        }
      ]
    }
  ]
}
